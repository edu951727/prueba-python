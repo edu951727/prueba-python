{
 "cells": [
  {
   "cell_type": "markdown",
   "metadata": {},
   "source": [
    "# Control de Flujo\n",
    "\n",
    "## Condicionales\n",
    "\n",
    "Los condicionales sirven para ejecutar código si se cumple una determinada condición. Para establecer un condicional, se define un bloque de código `if` con el que se debe evaluar una expresión que devuelva `True/False`. En el caso de que la condición sea verdadera se ejecuta el bloque de código dentro del `if`, sino se omite:\n",
    "\n",
    "```\n",
    "if <condición>:\n",
    "    sentencia1\n",
    "    sentencia2\n",
    "    ...\n",
    "    sentenciaN\n",
    "sentenciaX\n",
    "```\n",
    "\n",
    "Las sentencias 1 a la N se ejecutan sí y sólo si `condición` es evaluada como verdadera. Luego se ejecuta `sentenciaX`. Dentro de condición se pueden realizar operaciones lógicas y relacionales."
   ]
  },
  {
   "cell_type": "code",
   "execution_count": 2,
   "metadata": {},
   "outputs": [
    {
     "name": "stdout",
     "output_type": "stream",
     "text": [
      "Ejecutamos luego del condicional\n"
     ]
    }
   ],
   "source": [
    "a = 5\n",
    "if a < 4:\n",
    "    print(\"El número que está en a es menor a 4\")\n",
    "print(\"Ejecutamos luego del condicional\")"
   ]
  },
  {
   "cell_type": "code",
   "execution_count": 3,
   "metadata": {},
   "outputs": [
    {
     "name": "stdout",
     "output_type": "stream",
     "text": [
      "El número que está en a es menor a 4\n",
      "Ejecutamos luego del condicional\n"
     ]
    }
   ],
   "source": [
    "a = 3\n",
    "if a < 4:\n",
    "    print(\"El número que está en a es menor a 4\")\n",
    "print(\"Ejecutamos luego del condicional\")"
   ]
  },
  {
   "cell_type": "markdown",
   "metadata": {},
   "source": [
    "El bloque de código `if` admite una sentencia `else` para ejecutar código si la condición es falsa."
   ]
  },
  {
   "cell_type": "code",
   "execution_count": 4,
   "metadata": {},
   "outputs": [
    {
     "name": "stdout",
     "output_type": "stream",
     "text": [
      "El número que está en a no es menor a 4\n",
      "Ejecutamos luego del condicional\n"
     ]
    }
   ],
   "source": [
    "a = 5\n",
    "if a < 4:\n",
    "    print(\"El número que está en a es menor a 4\")\n",
    "else:\n",
    "    print(\"El número que está en a no es menor a 4\")\n",
    "print(\"Ejecutamos luego del condicional\")"
   ]
  },
  {
   "cell_type": "markdown",
   "metadata": {},
   "source": [
    "También podemos anidar condiciones y para ello podemos utilizar `elif` (es la contracción de `else if`."
   ]
  },
  {
   "cell_type": "code",
   "execution_count": 7,
   "metadata": {},
   "outputs": [
    {
     "name": "stdout",
     "output_type": "stream",
     "text": [
      "El número que está en a es mayor a 10, pero menor a 50\n",
      "Ejecutamos luego del condicional\n"
     ]
    }
   ],
   "source": [
    "a = 32\n",
    "if a < 10:\n",
    "    print(\"El número que está en a es menor a 4\")\n",
    "elif a < 50:\n",
    "    print(\"El número que está en a es mayor a 10, pero menor a 50\")\n",
    "else:\n",
    "    print(\"El número que está en a es mayor a 50\")\n",
    "print(\"Ejecutamos luego del condicional\")"
   ]
  },
  {
   "cell_type": "markdown",
   "metadata": {},
   "source": [
    "Ahora probá vos, volvé a copiar el condicional anterior y poné un valor en `a` para que salga por el primer `if`:"
   ]
  },
  {
   "cell_type": "code",
   "execution_count": null,
   "metadata": {},
   "outputs": [],
   "source": []
  },
  {
   "cell_type": "markdown",
   "metadata": {},
   "source": [
    "Vamos de nuevo, volvé a copiar el condicional anterior y poné un valor en `a` para que salga por el `else`:"
   ]
  },
  {
   "cell_type": "code",
   "execution_count": null,
   "metadata": {},
   "outputs": [],
   "source": []
  },
  {
   "cell_type": "markdown",
   "metadata": {},
   "source": [
    "Te animás a agregar una condición nueva?"
   ]
  },
  {
   "cell_type": "code",
   "execution_count": null,
   "metadata": {},
   "outputs": [],
   "source": []
  },
  {
   "cell_type": "markdown",
   "metadata": {},
   "source": [
    "¿Qué pasa en el siguiente código?"
   ]
  },
  {
   "cell_type": "code",
   "execution_count": 8,
   "metadata": {},
   "outputs": [
    {
     "name": "stdout",
     "output_type": "stream",
     "text": [
      "Ingrese una opción: 3\n"
     ]
    }
   ],
   "source": [
    "opción = input(\"Ingrese una opción: \")"
   ]
  },
  {
   "cell_type": "code",
   "execution_count": 9,
   "metadata": {},
   "outputs": [
    {
     "name": "stdout",
     "output_type": "stream",
     "text": [
      "No es una opción válida!\n"
     ]
    }
   ],
   "source": [
    "if opción == 0:\n",
    "    print(\"Usted eligió el cero!\")\n",
    "elif opción == 1:\n",
    "    print(\"Usted eligió el uno!\")\n",
    "elif opción == 2:\n",
    "    print(\"Usted eligió el dps!\")\n",
    "elif opción == 3:\n",
    "    print(\"Usted eligió el tres!\")\n",
    "elif opción == 4:\n",
    "    print(\"Usted eligió el cuatro!\")\n",
    "elif opción == 5:\n",
    "    print(\"Usted eligió el cinco!\")\n",
    "else:\n",
    "    print(\"No es una opción válida!\")"
   ]
  },
  {
   "cell_type": "markdown",
   "metadata": {},
   "source": [
    "## Ciclos\n",
    "\n",
    "Son bloques de código que nos permiten ejecutar las mismas sentencias siempre y cuando se cumpla la condición. Si no conocemos cuándo se va a dejar de cumplir la condición utilizamos un ciclo `while`. Mientras que si tenemos que iterar sobre un objeto que conocemos usamos un ciclo `for`.\n",
    "\n",
    "### Mientras\n",
    "\n",
    "La sintáxis del `while` contempla una condición y ejecuta las sentencias dentro de su bloque mientras la condición sea verdadera.\n",
    "\n",
    "```\n",
    "while <condicion>:\n",
    "    sentencia1\n",
    "    sentencia2\n",
    "    ...\n",
    "    sentenciaN\n",
    "sentenciaX\n",
    "```"
   ]
  },
  {
   "cell_type": "code",
   "execution_count": 12,
   "metadata": {},
   "outputs": [
    {
     "name": "stdout",
     "output_type": "stream",
     "text": [
      "Usted tiene 0 años...\n",
      "Usted tiene 1 años...\n",
      "Usted tiene 2 años...\n",
      "Usted tiene 3 años...\n",
      "Usted tiene 4 años...\n",
      "Usted tiene 5 años...\n",
      "Usted tiene 6 años...\n",
      "Usted tiene 7 años...\n",
      "Usted tiene 8 años...\n",
      "Usted tiene 9 años...\n",
      "Usted tiene 10 años...\n",
      "Usted tiene 11 años...\n",
      "Usted tiene 12 años...\n",
      "Usted tiene 13 años...\n",
      "Usted tiene 14 años...\n",
      "Usted tiene 15 años...\n",
      "Usted tiene 16 años...\n",
      "Usted tiene 17 años...\n",
      "Felicidades! Usted ya es mayor de edad!!\n",
      "Su edad: 18\n"
     ]
    }
   ],
   "source": [
    "edad = 0\n",
    "while edad < 18:\n",
    "    print(f\"Usted tiene {edad} años...\")\n",
    "    edad = edad + 1\n",
    "print(\"Felicidades! Usted ya es mayor de edad!!\")\n",
    "print(f\"Su edad: {edad}\")"
   ]
  },
  {
   "cell_type": "markdown",
   "metadata": {},
   "source": [
    "### Para\n",
    "\n",
    "La sintaxis del `for` contempla ejecutar el ciclo recorriendo un *iterable*. Generalmente se utiliza cuando tenés una lista de objetos y querés realizar acciones en los objestos de la lista. Para iterar por cada uno de los objetos usás una variable temporal a la que le debés poner un nombre y luego definir el bloque de sentencias:\n",
    "\n",
    "```\n",
    "for variable_temporal in <iterable>:\n",
    "    sentencia1\n",
    "    sentencia2\n",
    "    ...\n",
    "    sentenciaN\n",
    "sentenciaX\n",
    "```"
   ]
  },
  {
   "cell_type": "code",
   "execution_count": 15,
   "metadata": {},
   "outputs": [
    {
     "name": "stdout",
     "output_type": "stream",
     "text": [
      "Tengo que comprar: pan\n",
      "Tengo que comprar: huevos\n",
      "Tengo que comprar: harina\n",
      "Tengo que comprar: azúcar\n",
      "Tengo que comprar: leche\n",
      "Tengo que comprar: cerveza\n",
      "Tengo que comprar 6 cosas\n"
     ]
    }
   ],
   "source": [
    "compras = ['pan', 'huevos', 'harina', 'azúcar', 'leche', 'cerveza']\n",
    "for item in compras:\n",
    "    print(f\"Tengo que comprar: {item}\")\n",
    "print(f\"Tengo que comprar {len(compras)} cosas\")"
   ]
  }
 ],
 "metadata": {
  "kernelspec": {
   "display_name": "Python 3",
   "language": "python",
   "name": "python3"
  },
  "language_info": {
   "codemirror_mode": {
    "name": "ipython",
    "version": 3
   },
   "file_extension": ".py",
   "mimetype": "text/x-python",
   "name": "python",
   "nbconvert_exporter": "python",
   "pygments_lexer": "ipython3",
   "version": "3.7.7"
  }
 },
 "nbformat": 4,
 "nbformat_minor": 4
}
