{
 "cells": [
  {
   "cell_type": "markdown",
   "metadata": {},
   "source": [
    "# Módulos\n",
    "\n",
    "Un archivo que contiene código Python se conoce como **módulo**. En el siguiente ejemplo vamos a utilizar el módulo `auxiliares.py` para importar y utilizar las funciones que ahí se definen."
   ]
  },
  {
   "cell_type": "markdown",
   "metadata": {},
   "source": [
    "Un módulo Python se puede importar en otro módulo Python y/o en un Notebook. Para ello se utiliza la sentencia `import` con el nombre del módulo (exceptuando la extensión). Luego, siempre tendremos que llamar a la función que está dentro de ese módulo anteponiendo el nombre del módulo. \n",
    "\n",
    "Si tenemos la función `baz` dentro del módulo `foo` la sintaxis será:\n",
    "\n",
    "```\n",
    "import foo\n",
    "\n",
    "foo.baz()\n",
    "```"
   ]
  },
  {
   "cell_type": "code",
   "execution_count": 2,
   "metadata": {},
   "outputs": [
    {
     "name": "stdout",
     "output_type": "stream",
     "text": [
      "Hola! Simplemente vine a imprimir esto\n",
      "Chau\n"
     ]
    }
   ],
   "source": [
    "import auxiliares\n",
    "\n",
    "auxiliares.imprimir_mensaje()"
   ]
  },
  {
   "cell_type": "code",
   "execution_count": 3,
   "metadata": {},
   "outputs": [
    {
     "name": "stdout",
     "output_type": "stream",
     "text": [
      "Bienvenido Leandro Colombo Viña\n"
     ]
    }
   ],
   "source": [
    "name = \"Leandro\"\n",
    "lastname = \"Colombo Viña\"\n",
    "auxiliares.saludo(name, lastname)"
   ]
  },
  {
   "cell_type": "code",
   "execution_count": 4,
   "metadata": {},
   "outputs": [
    {
     "data": {
      "text/plain": [
       "['__builtins__',\n",
       " '__cached__',\n",
       " '__doc__',\n",
       " '__file__',\n",
       " '__loader__',\n",
       " '__name__',\n",
       " '__package__',\n",
       " '__spec__',\n",
       " 'agregar',\n",
       " 'imprimir_mensaje',\n",
       " 'incrementar',\n",
       " 'saludo',\n",
       " 'saludo2',\n",
       " 'saludo3']"
      ]
     },
     "execution_count": 4,
     "metadata": {},
     "output_type": "execute_result"
    }
   ],
   "source": [
    "dir(auxiliares)"
   ]
  },
  {
   "cell_type": "markdown",
   "metadata": {},
   "source": [
    "## help(auxiliares.saludo2)"
   ]
  },
  {
   "cell_type": "markdown",
   "metadata": {},
   "source": [
    "## Importar selectivamente\n",
    "\n",
    "Se puede importar selectivamente utilizando la sintaxis `from`:\n",
    "\n",
    "```\n",
    "from modulo import funcionX\n",
    "```\n",
    "\n",
    "De esta manera sólo importamos `funcionX` a nuestro espacio de nombres y no tenemos acceso al resto.\n",
    "\n",
    "> Reiniciá el Notebook para ver el `NameError`"
   ]
  },
  {
   "cell_type": "code",
   "execution_count": 1,
   "metadata": {},
   "outputs": [
    {
     "name": "stdout",
     "output_type": "stream",
     "text": [
      "10\n"
     ]
    }
   ],
   "source": [
    "from auxiliares import incrementar\n",
    "\n",
    "incrementar(9)"
   ]
  },
  {
   "cell_type": "code",
   "execution_count": 2,
   "metadata": {
    "scrolled": true
   },
   "outputs": [
    {
     "ename": "NameError",
     "evalue": "name 'auxiliares' is not defined",
     "output_type": "error",
     "traceback": [
      "\u001b[0;31m---------------------------------------------------------------------------\u001b[0m",
      "\u001b[0;31mNameError\u001b[0m                                 Traceback (most recent call last)",
      "\u001b[0;32m<ipython-input-2-2cad328dbfd7>\u001b[0m in \u001b[0;36m<module>\u001b[0;34m\u001b[0m\n\u001b[0;32m----> 1\u001b[0;31m \u001b[0mauxiliares\u001b[0m\u001b[0;34m.\u001b[0m\u001b[0msaludo2\u001b[0m\u001b[0;34m(\u001b[0m\u001b[0;34m)\u001b[0m\u001b[0;34m\u001b[0m\u001b[0;34m\u001b[0m\u001b[0m\n\u001b[0m",
      "\u001b[0;31mNameError\u001b[0m: name 'auxiliares' is not defined"
     ]
    }
   ],
   "source": [
    "auxiliares.saludo2()"
   ]
  }
 ],
 "metadata": {
  "kernelspec": {
   "display_name": "Python 3",
   "language": "python",
   "name": "python3"
  },
  "language_info": {
   "codemirror_mode": {
    "name": "ipython",
    "version": 3
   },
   "file_extension": ".py",
   "mimetype": "text/x-python",
   "name": "python",
   "nbconvert_exporter": "python",
   "pygments_lexer": "ipython3",
   "version": "3.7.7"
  }
 },
 "nbformat": 4,
 "nbformat_minor": 4
}
