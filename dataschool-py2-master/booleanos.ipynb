{
  "nbformat": 4,
  "nbformat_minor": 0,
  "metadata": {
    "colab": {
      "name": "booleanos.ipynb",
      "provenance": []
    },
    "kernelspec": {
      "name": "python3",
      "display_name": "Python 3"
    }
  },
  "cells": [
    {
      "cell_type": "markdown",
      "metadata": {
        "id": "wO-2zsXoZAvc",
        "colab_type": "text"
      },
      "source": [
        "# Lógica Booleana\n",
        "\n",
        "Toda la informática se basa en trabajar con el sistema binario y la lógica booleana. Los valores de la lógica binaria \"Verdadero\" y \"Falso\" en Python existen como `True` y `False` respectivamente."
      ]
    },
    {
      "cell_type": "code",
      "metadata": {
        "id": "RTiUCUW4ZWKa",
        "colab_type": "code",
        "outputId": "5c3e71a0-20fc-4741-e63b-aadfefe24776",
        "colab": {
          "base_uri": "https://localhost:8080/",
          "height": 34
        }
      },
      "source": [
        "True"
      ],
      "execution_count": 0,
      "outputs": [
        {
          "output_type": "execute_result",
          "data": {
            "text/plain": [
              "True"
            ]
          },
          "metadata": {
            "tags": []
          },
          "execution_count": 1
        }
      ]
    },
    {
      "cell_type": "code",
      "metadata": {
        "id": "-a-qibuCZZ2e",
        "colab_type": "code",
        "outputId": "2c467c83-6b87-49e6-b085-abbf333c8ec1",
        "colab": {
          "base_uri": "https://localhost:8080/",
          "height": 34
        }
      },
      "source": [
        "False"
      ],
      "execution_count": 0,
      "outputs": [
        {
          "output_type": "execute_result",
          "data": {
            "text/plain": [
              "False"
            ]
          },
          "metadata": {
            "tags": []
          },
          "execution_count": 2
        }
      ]
    },
    {
      "cell_type": "code",
      "metadata": {
        "id": "gQchT0G1ZbTu",
        "colab_type": "code",
        "outputId": "00c74972-2528-4248-8cf0-859ca76eba6e",
        "colab": {
          "base_uri": "https://localhost:8080/",
          "height": 34
        }
      },
      "source": [
        "type(True)"
      ],
      "execution_count": 0,
      "outputs": [
        {
          "output_type": "execute_result",
          "data": {
            "text/plain": [
              "bool"
            ]
          },
          "metadata": {
            "tags": []
          },
          "execution_count": 3
        }
      ]
    },
    {
      "cell_type": "markdown",
      "metadata": {
        "id": "zDV9Nk6YrCDi",
        "colab_type": "text"
      },
      "source": [
        "## Operadores Booleanos\n",
        "\n",
        "### Negación (`not`)\n",
        "\n",
        "La negación devuelve `False` cuando es aplicada sobre un `True` y viceversa. Es un operador unario. Es decir, sólo necesita un operando para devolver un resultado."
      ]
    },
    {
      "cell_type": "code",
      "metadata": {
        "id": "anz7MCkEG-GR",
        "colab_type": "code",
        "outputId": "3b1ca269-cac1-441d-c6dc-8d02d78aa96c",
        "colab": {
          "base_uri": "https://localhost:8080/",
          "height": 34
        }
      },
      "source": [
        "not False"
      ],
      "execution_count": 0,
      "outputs": [
        {
          "output_type": "execute_result",
          "data": {
            "text/plain": [
              "True"
            ]
          },
          "metadata": {
            "tags": []
          },
          "execution_count": 1
        }
      ]
    },
    {
      "cell_type": "code",
      "metadata": {
        "id": "gi1oL9ejHGKH",
        "colab_type": "code",
        "outputId": "540dedc9-4ed4-448d-a498-edb2786811b4",
        "colab": {
          "base_uri": "https://localhost:8080/",
          "height": 34
        }
      },
      "source": [
        "not True"
      ],
      "execution_count": 0,
      "outputs": [
        {
          "output_type": "execute_result",
          "data": {
            "text/plain": [
              "False"
            ]
          },
          "metadata": {
            "tags": []
          },
          "execution_count": 2
        }
      ]
    },
    {
      "cell_type": "markdown",
      "metadata": {
        "id": "bU_1eDlScm2D",
        "colab_type": "text"
      },
      "source": [
        "### Suma lógica (`or`)\n",
        "\n",
        "La suma lógica devuelve `True` siempre que alguno de sus operandos sea `True`. O lo que es lo mismo, devuelve `False` cuando ambos operando son `False`"
      ]
    },
    {
      "cell_type": "code",
      "metadata": {
        "id": "sMwW0Z1Fc8ol",
        "colab_type": "code",
        "outputId": "2371c8c3-5e7e-4801-e22e-43284635ba3c",
        "colab": {
          "base_uri": "https://localhost:8080/",
          "height": 34
        }
      },
      "source": [
        "True or False"
      ],
      "execution_count": 0,
      "outputs": [
        {
          "output_type": "execute_result",
          "data": {
            "text/plain": [
              "True"
            ]
          },
          "metadata": {
            "tags": []
          },
          "execution_count": 4
        }
      ]
    },
    {
      "cell_type": "code",
      "metadata": {
        "id": "dscFMYeUc_AB",
        "colab_type": "code",
        "outputId": "ec80e48f-20fc-4175-8b3f-f64027ca134d",
        "colab": {
          "base_uri": "https://localhost:8080/",
          "height": 34
        }
      },
      "source": [
        "True or True"
      ],
      "execution_count": 0,
      "outputs": [
        {
          "output_type": "execute_result",
          "data": {
            "text/plain": [
              "True"
            ]
          },
          "metadata": {
            "tags": []
          },
          "execution_count": 5
        }
      ]
    },
    {
      "cell_type": "code",
      "metadata": {
        "id": "VEk4Y2V4dBTo",
        "colab_type": "code",
        "outputId": "f3770753-e607-48a7-a375-a07fde4c8546",
        "colab": {
          "base_uri": "https://localhost:8080/",
          "height": 34
        }
      },
      "source": [
        "False or True"
      ],
      "execution_count": 0,
      "outputs": [
        {
          "output_type": "execute_result",
          "data": {
            "text/plain": [
              "True"
            ]
          },
          "metadata": {
            "tags": []
          },
          "execution_count": 6
        }
      ]
    },
    {
      "cell_type": "code",
      "metadata": {
        "id": "61GTdhsGdC69",
        "colab_type": "code",
        "outputId": "b763d15d-d934-43c3-dc66-9303b69a5b17",
        "colab": {
          "base_uri": "https://localhost:8080/",
          "height": 34
        }
      },
      "source": [
        "False or False"
      ],
      "execution_count": 0,
      "outputs": [
        {
          "output_type": "execute_result",
          "data": {
            "text/plain": [
              "False"
            ]
          },
          "metadata": {
            "tags": []
          },
          "execution_count": 7
        }
      ]
    },
    {
      "cell_type": "markdown",
      "metadata": {
        "colab_type": "text",
        "id": "N0Dcm0kidInP"
      },
      "source": [
        "### Producto lógico (`and`)\n",
        "\n",
        "El producto lógico devuelve `True` sólo si ambos operando son `True`. O lo que es lo mismo, si alguno de sus operandos es `False` el producto lógico devuelve `False`"
      ]
    },
    {
      "cell_type": "code",
      "metadata": {
        "id": "HYcoQiemdjiR",
        "colab_type": "code",
        "outputId": "312d8125-08c5-4780-d8be-8aec70d665d4",
        "colab": {
          "base_uri": "https://localhost:8080/",
          "height": 34
        }
      },
      "source": [
        "True and True"
      ],
      "execution_count": 0,
      "outputs": [
        {
          "output_type": "execute_result",
          "data": {
            "text/plain": [
              "True"
            ]
          },
          "metadata": {
            "tags": []
          },
          "execution_count": 8
        }
      ]
    },
    {
      "cell_type": "code",
      "metadata": {
        "id": "CcyIVgFqdl1a",
        "colab_type": "code",
        "outputId": "62d4e20c-c91c-4493-a9ce-da1b696f1d54",
        "colab": {
          "base_uri": "https://localhost:8080/",
          "height": 34
        }
      },
      "source": [
        "True and False"
      ],
      "execution_count": 0,
      "outputs": [
        {
          "output_type": "execute_result",
          "data": {
            "text/plain": [
              "False"
            ]
          },
          "metadata": {
            "tags": []
          },
          "execution_count": 9
        }
      ]
    },
    {
      "cell_type": "code",
      "metadata": {
        "id": "HKb7ANtWdnuD",
        "colab_type": "code",
        "outputId": "dddffdd8-9b82-44f1-b6fa-783a2a737035",
        "colab": {
          "base_uri": "https://localhost:8080/",
          "height": 34
        }
      },
      "source": [
        "False and False"
      ],
      "execution_count": 0,
      "outputs": [
        {
          "output_type": "execute_result",
          "data": {
            "text/plain": [
              "False"
            ]
          },
          "metadata": {
            "tags": []
          },
          "execution_count": 10
        }
      ]
    },
    {
      "cell_type": "code",
      "metadata": {
        "id": "jif2AmCldqEM",
        "colab_type": "code",
        "outputId": "a86ba407-df9c-44e5-c620-acffcb503841",
        "colab": {
          "base_uri": "https://localhost:8080/",
          "height": 34
        }
      },
      "source": [
        "False and True"
      ],
      "execution_count": 0,
      "outputs": [
        {
          "output_type": "execute_result",
          "data": {
            "text/plain": [
              "False"
            ]
          },
          "metadata": {
            "tags": []
          },
          "execution_count": 11
        }
      ]
    },
    {
      "cell_type": "markdown",
      "metadata": {
        "id": "PelHcYBnHkAJ",
        "colab_type": "text"
      },
      "source": [
        "## Operadores Relacionales\n",
        "\n",
        "Evalúan la relación entre los operandos y devuelven `True` o `False` según corresponda. Son 6:\n",
        "\n",
        "1. Igual: `==`\n",
        "2. Mayor: `>`\n",
        "3. Menor: `<`\n",
        "4. No igual: `!=`\n",
        "5. Mayor o igual: `>=`\n",
        "6. Menor o igual: `<=`\n",
        "\n",
        "Guardemos en la variable \"a\" el valor 10 y veamos algunos ejemplos:"
      ]
    },
    {
      "cell_type": "code",
      "metadata": {
        "id": "bqJpninyIkmp",
        "colab_type": "code",
        "colab": {}
      },
      "source": [
        "a = 10"
      ],
      "execution_count": 0,
      "outputs": []
    },
    {
      "cell_type": "code",
      "metadata": {
        "id": "lscritdlIC-1",
        "colab_type": "code",
        "outputId": "e2f55533-b6ab-4c98-b0ad-983daadfb36c",
        "colab": {
          "base_uri": "https://localhost:8080/",
          "height": 34
        }
      },
      "source": [
        "a == 100"
      ],
      "execution_count": 0,
      "outputs": [
        {
          "output_type": "execute_result",
          "data": {
            "text/plain": [
              "False"
            ]
          },
          "metadata": {
            "tags": []
          },
          "execution_count": 3
        }
      ]
    },
    {
      "cell_type": "code",
      "metadata": {
        "id": "Y-byY3PhIYof",
        "colab_type": "code",
        "outputId": "252d161b-4dc5-47c5-c7bc-2a9b3e7b69ee",
        "colab": {
          "base_uri": "https://localhost:8080/",
          "height": 34
        }
      },
      "source": [
        "a > 1"
      ],
      "execution_count": 0,
      "outputs": [
        {
          "output_type": "execute_result",
          "data": {
            "text/plain": [
              "True"
            ]
          },
          "metadata": {
            "tags": []
          },
          "execution_count": 5
        }
      ]
    },
    {
      "cell_type": "code",
      "metadata": {
        "id": "Wr8D3nKVIbgG",
        "colab_type": "code",
        "outputId": "df375d18-447b-4cf1-c4ea-709fd30d9724",
        "colab": {
          "base_uri": "https://localhost:8080/",
          "height": 34
        }
      },
      "source": [
        "a < 9"
      ],
      "execution_count": 0,
      "outputs": [
        {
          "output_type": "execute_result",
          "data": {
            "text/plain": [
              "False"
            ]
          },
          "metadata": {
            "tags": []
          },
          "execution_count": 6
        }
      ]
    },
    {
      "cell_type": "code",
      "metadata": {
        "id": "uf8JBrBeIUhE",
        "colab_type": "code",
        "outputId": "f7489105-20e7-43be-e2f8-b809a86ac5ba",
        "colab": {
          "base_uri": "https://localhost:8080/",
          "height": 34
        }
      },
      "source": [
        "a != 5"
      ],
      "execution_count": 0,
      "outputs": [
        {
          "output_type": "execute_result",
          "data": {
            "text/plain": [
              "True"
            ]
          },
          "metadata": {
            "tags": []
          },
          "execution_count": 4
        }
      ]
    },
    {
      "cell_type": "code",
      "metadata": {
        "id": "9bLCYBuLIdkA",
        "colab_type": "code",
        "outputId": "3c5604d2-19bd-4b60-f91a-44cbfae96d91",
        "colab": {
          "base_uri": "https://localhost:8080/",
          "height": 34
        }
      },
      "source": [
        "a >= 10"
      ],
      "execution_count": 0,
      "outputs": [
        {
          "output_type": "execute_result",
          "data": {
            "text/plain": [
              "True"
            ]
          },
          "metadata": {
            "tags": []
          },
          "execution_count": 8
        }
      ]
    },
    {
      "cell_type": "code",
      "metadata": {
        "id": "QQ3tzif_IsME",
        "colab_type": "code",
        "outputId": "c7da0cb1-e69d-4dfd-b0e3-81e3f5fa1f22",
        "colab": {
          "base_uri": "https://localhost:8080/",
          "height": 34
        }
      },
      "source": [
        "a <= 10"
      ],
      "execution_count": 0,
      "outputs": [
        {
          "output_type": "execute_result",
          "data": {
            "text/plain": [
              "True"
            ]
          },
          "metadata": {
            "tags": []
          },
          "execution_count": 9
        }
      ]
    },
    {
      "cell_type": "markdown",
      "metadata": {
        "id": "b5_EWQdBI8Oz",
        "colab_type": "text"
      },
      "source": [
        "Para todos los operadores se pueden usar expresiones y combinaciones entre ellos.\n",
        "\n",
        "¿Qué devuelve la siguiente expresión?"
      ]
    },
    {
      "cell_type": "code",
      "metadata": {
        "id": "bZj4PQqwJTF1",
        "colab_type": "code",
        "outputId": "017ad5e0-b6f7-445f-c695-8c49ac82a73a",
        "colab": {
          "base_uri": "https://localhost:8080/",
          "height": 34
        }
      },
      "source": [
        "a = 10\n",
        "b = 2\n",
        "flag = False\n",
        "\n",
        "(a * b <= a + 2) and flag"
      ],
      "execution_count": 0,
      "outputs": [
        {
          "output_type": "execute_result",
          "data": {
            "text/plain": [
              "False"
            ]
          },
          "metadata": {
            "tags": []
          },
          "execution_count": 10
        }
      ]
    }
  ]
}