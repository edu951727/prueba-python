{
  "nbformat": 4,
  "nbformat_minor": 0,
  "metadata": {
    "colab": {
      "name": "funciones.ipynb",
      "provenance": [],
      "collapsed_sections": []
    },
    "kernelspec": {
      "name": "python3",
      "display_name": "Python 3"
    }
  },
  "cells": [
    {
      "cell_type": "markdown",
      "metadata": {
        "id": "GjV2C4oXkrdf",
        "colab_type": "text"
      },
      "source": [
        "# Funciones\n",
        "\n",
        "Son porciones reutilizables de código que pueden recibir **argumentos** y devolver un **valor** (o realizar una acción).\n",
        "\n",
        "## Definiendo funciones\n",
        "\n",
        "Para definir una función usamos la palabra reservada `def` le asignamos un nombre y luego dentro de los paréntesis le indicamos los nombres de los argumentos que se necesitan utilizar dentro de la función. Luego de cerrar los paréntesis se coloca un dos puntos (`:`) y comienza el bloque de código que es parte de la función."
      ]
    },
    {
      "cell_type": "code",
      "metadata": {
        "id": "uckecVhDkpGr",
        "colab_type": "code",
        "colab": {}
      },
      "source": [
        "def saludar():\n",
        "  print(\"Hola, soy una función de ejemplo!\")"
      ],
      "execution_count": 0,
      "outputs": []
    },
    {
      "cell_type": "markdown",
      "metadata": {
        "id": "w4ORQcEJlSGK",
        "colab_type": "text"
      },
      "source": [
        "Cuando ejecutamos la definición de una función no vemos que Python nos devuelva nada. Eso es porque lo que está sucediendo es que Python reconoce las instrucciones que pusimos dentro de la función y ahora \"entiende\" que podemos ejecutar esas instrucciones cuando llamemos a la función.\n",
        "\n",
        "Para ejecutar la función basta con escribir su nombre (como lo hicimos con `print`) y pasarle los argumentos necesarios."
      ]
    },
    {
      "cell_type": "code",
      "metadata": {
        "id": "K5Jb5fLMluir",
        "colab_type": "code",
        "outputId": "0dbc239b-da81-44f7-8022-a379561aa95f",
        "colab": {
          "base_uri": "https://localhost:8080/",
          "height": 34
        }
      },
      "source": [
        "saludar()"
      ],
      "execution_count": 0,
      "outputs": [
        {
          "output_type": "stream",
          "text": [
            "Hola, soy una función de ejemplo!\n"
          ],
          "name": "stdout"
        }
      ]
    },
    {
      "cell_type": "markdown",
      "metadata": {
        "id": "V0Rb_aunlwzy",
        "colab_type": "text"
      },
      "source": [
        "Una vez definida la función existe en nuestro espacio de nombres, por lo tanto podemos usarla en otras funciones que definamos después."
      ]
    },
    {
      "cell_type": "code",
      "metadata": {
        "id": "dQOuUjr1mCWH",
        "colab_type": "code",
        "colab": {}
      },
      "source": [
        "def saludarx3():\n",
        "  saludar()\n",
        "  saludar()\n",
        "  saludar()"
      ],
      "execution_count": 0,
      "outputs": []
    },
    {
      "cell_type": "code",
      "metadata": {
        "id": "__F-dkRJmH45",
        "colab_type": "code",
        "outputId": "1155a91f-1418-4ce8-e5c0-1a2fc97a6347",
        "colab": {
          "base_uri": "https://localhost:8080/",
          "height": 69
        }
      },
      "source": [
        "saludarx3()"
      ],
      "execution_count": 0,
      "outputs": [
        {
          "output_type": "stream",
          "text": [
            "Hola, soy una función de ejemplo!\n",
            "Hola, soy una función de ejemplo!\n",
            "Hola, soy una función de ejemplo!\n"
          ],
          "name": "stdout"
        }
      ]
    },
    {
      "cell_type": "markdown",
      "metadata": {
        "id": "kHU7WjKIoGVZ",
        "colab_type": "text"
      },
      "source": [
        "## Argumentos\n",
        "\n",
        "Las funciones pueden admitir argumentos. La lista de argumentos va dentro de los paréntesis que están al lado de su nombre. \n",
        "\n",
        "Veamos el siguiente ejemplo:"
      ]
    },
    {
      "cell_type": "code",
      "metadata": {
        "id": "TsSFiBoeooEP",
        "colab_type": "code",
        "outputId": "9da8e3e2-8f4d-4644-a177-1c7c3f013bfa",
        "colab": {
          "base_uri": "https://localhost:8080/",
          "height": 34
        }
      },
      "source": [
        "def bienvenida(nombre, edad):\n",
        "  print(f'Hola! Mi nombre es {nombre}, tengo {edad} años y estoy aprendiendo Python!')\n",
        "\n",
        "bienvenida('Leandro', 38)"
      ],
      "execution_count": 0,
      "outputs": [
        {
          "output_type": "stream",
          "text": [
            "Hola! Mi nombre es Leandro, tengo 38 años y estoy aprendiendo Python!\n"
          ],
          "name": "stdout"
        }
      ]
    },
    {
      "cell_type": "markdown",
      "metadata": {
        "id": "fktJdyeqpF6J",
        "colab_type": "text"
      },
      "source": [
        "En este caso, asignamos los valores de los argumentos directamente cuando llamamos a la función. Pero también podemos tener esos valores guardados en variables."
      ]
    },
    {
      "cell_type": "code",
      "metadata": {
        "id": "VSbu0ozypSzG",
        "colab_type": "code",
        "outputId": "57f9609e-a2e7-4cc5-8a66-db842eb8288d",
        "colab": {
          "base_uri": "https://localhost:8080/",
          "height": 34
        }
      },
      "source": [
        "name = \"Leandro\"\n",
        "age = 38\n",
        "\n",
        "bienvenida(name, age)"
      ],
      "execution_count": 0,
      "outputs": [
        {
          "output_type": "stream",
          "text": [
            "Hola! Mi nombre es Leandro, tengo 38 años y estoy aprendiendo Python!\n"
          ],
          "name": "stdout"
        }
      ]
    },
    {
      "cell_type": "markdown",
      "metadata": {
        "id": "4JNKgbdQpR02",
        "colab_type": "text"
      },
      "source": [
        "*   ¿Qué pasa si mandás al revés los argumentos?\n",
        "*   ¿Y si te olvidás de mandar uno?\n",
        "*   Definí una función que acepte 2 valores e imprima el producto de ambos.\n",
        "\n",
        "Usá el siguiente bloque de código para jugar y responder los puntos anteriores:\n",
        "\n"
      ]
    },
    {
      "cell_type": "code",
      "metadata": {
        "id": "3B3ViC7NrEgT",
        "colab_type": "code",
        "colab": {}
      },
      "source": [
        ""
      ],
      "execution_count": 0,
      "outputs": []
    }
  ]
}