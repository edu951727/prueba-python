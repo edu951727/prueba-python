{
 "cells": [
  {
   "cell_type": "markdown",
   "metadata": {
    "colab_type": "text",
    "id": "6xy0w-_oWT2k"
   },
   "source": [
    "# Primeros Pasos\n",
    "\n",
    "## Funciones\n",
    "\n",
    "Una **función** es un conjunto de instrucciones que están asociados a un *nombre*, acepta (o no) *argumentos* y devuelve un *valor* (o realiza una acción o procedimiento).\n",
    "\n",
    "En el ejemplo anterior, vimos cómo llamamos a la función `print` y le pasamos como argumento el texto: `Hola Mundo!` por eso nos mostró en pantalla ese texto."
   ]
  },
  {
   "cell_type": "code",
   "execution_count": 1,
   "metadata": {
    "colab": {
     "base_uri": "https://localhost:8080/",
     "height": 34
    },
    "colab_type": "code",
    "id": "hdSQjRtSX8ct",
    "outputId": "d12f127a-ed1e-4a48-f253-3f891125627a"
   },
   "outputs": [
    {
     "name": "stdout",
     "output_type": "stream",
     "text": [
      "Hola Mundo!\n"
     ]
    }
   ],
   "source": [
    "print(\"Hola Mundo!\")"
   ]
  },
  {
   "cell_type": "code",
   "execution_count": 2,
   "metadata": {
    "colab": {
     "base_uri": "https://localhost:8080/",
     "height": 34
    },
    "colab_type": "code",
    "id": "VtRQTH6XYFUE",
    "outputId": "402ef9dc-52ac-4886-ef9c-5d3437c65c45"
   },
   "outputs": [
    {
     "name": "stdout",
     "output_type": "stream",
     "text": [
      "Qué bueno que está Python y el #DataSchool\n"
     ]
    }
   ],
   "source": [
    "print(\"Qué bueno que está Python y el #DataSchool\")"
   ]
  },
  {
   "cell_type": "markdown",
   "metadata": {
    "colab_type": "text",
    "id": "pL9wXnVaYMyn"
   },
   "source": [
    "### Ahora experimentá un poco con la función `print`\n",
    "\n",
    "En la siguiente celda hacé que Python escriba tu nombre:"
   ]
  },
  {
   "cell_type": "code",
   "execution_count": 5,
   "metadata": {
    "colab": {},
    "colab_type": "code",
    "id": "hnLb4tO1YTAg"
   },
   "outputs": [
    {
     "name": "stdout",
     "output_type": "stream",
     "text": [
      "Leo\n"
     ]
    }
   ],
   "source": [
    "print(\"Leo\")"
   ]
  },
  {
   "cell_type": "markdown",
   "metadata": {
    "colab_type": "text",
    "id": "BrZNQvbyYT3k"
   },
   "source": [
    "## Variables\n",
    "\n",
    "Una **variable** es un \"espacio de memoria\" que nos sirve para guardar un *valor*. En Python, para definir una **variable** lo que tenemos que hacer es ponerle un *nombre* y asignarle un *valor*. \n",
    "\n",
    "Por ejemplo, creemos una variable que se llame `x` y guardemos en ella el valor `10`."
   ]
  },
  {
   "cell_type": "code",
   "execution_count": 2,
   "metadata": {
    "colab": {},
    "colab_type": "code",
    "id": "gucDuM7iY7Cc"
   },
   "outputs": [],
   "source": [
    "x = 10"
   ]
  },
  {
   "cell_type": "markdown",
   "metadata": {
    "colab_type": "text",
    "id": "AJozSBNTY_sE"
   },
   "source": [
    "Notemos que luego de ejecutar la instrucción `x = 10`, no tenemos ninguna devolución. Y que para asignar el valor a la variable utilizamos el **operador de asignación** que es el signo `=`.\n",
    "\n",
    "Si queremos ver el valor que tiene asignada la variable `x`, sólo debemos escribir `x` (el nombre de la variable) y darle \"play\" para que nos muestre el valor."
   ]
  },
  {
   "cell_type": "code",
   "execution_count": 3,
   "metadata": {
    "colab": {
     "base_uri": "https://localhost:8080/",
     "height": 34
    },
    "colab_type": "code",
    "id": "E0NC4y5ZaASO",
    "outputId": "22314235-96a7-4f44-c051-eb931b8c2d86"
   },
   "outputs": [
    {
     "data": {
      "text/plain": [
       "10"
      ]
     },
     "execution_count": 3,
     "metadata": {},
     "output_type": "execute_result"
    }
   ],
   "source": [
    "x"
   ]
  },
  {
   "cell_type": "markdown",
   "metadata": {
    "colab_type": "text",
    "id": "cc1eeEo1aCIS"
   },
   "source": [
    "\n",
    "\n",
    "> _Aclaración_: funciona de esta manera en el intérprete de Python. Si estuviéramos ejecutando esto en un **script** para poder ver el contenido de la variable debemos usar la función `print`.\n",
    "\n",
    "\n",
    "Las variables en Python pueden guardar cualquier cosa válida en Python."
   ]
  },
  {
   "cell_type": "code",
   "execution_count": 0,
   "metadata": {
    "colab": {
     "base_uri": "https://localhost:8080/",
     "height": 34
    },
    "colab_type": "code",
    "id": "rXZSXME6KWZf",
    "outputId": "015f4a80-4a8a-4b83-e5a7-264038c068bc"
   },
   "outputs": [
    {
     "data": {
      "text/plain": [
       "12"
      ]
     },
     "execution_count": 2,
     "metadata": {
      "tags": []
     },
     "output_type": "execute_result"
    }
   ],
   "source": [
    "# Definimos la variable \"a\" y le asignamos el valor 12\n",
    "a = 12\n",
    "a"
   ]
  },
  {
   "cell_type": "markdown",
   "metadata": {
    "colab_type": "text",
    "id": "9QZbKpddafR6"
   },
   "source": [
    "## Expresiones\n",
    "\n",
    "Son conjuntos de símbolos que el intérprete de Python puede evaluar para obtener un **valor**.\n"
   ]
  },
  {
   "cell_type": "code",
   "execution_count": 0,
   "metadata": {
    "colab": {
     "base_uri": "https://localhost:8080/",
     "height": 34
    },
    "colab_type": "code",
    "id": "Vk9Qv0rkcFfl",
    "outputId": "0aa3b825-9bed-4d61-9766-cf981dc2f2ac"
   },
   "outputs": [
    {
     "data": {
      "text/plain": [
       "7"
      ]
     },
     "execution_count": 6,
     "metadata": {
      "tags": []
     },
     "output_type": "execute_result"
    }
   ],
   "source": [
    "3 + 4"
   ]
  },
  {
   "cell_type": "code",
   "execution_count": 0,
   "metadata": {
    "colab": {
     "base_uri": "https://localhost:8080/",
     "height": 34
    },
    "colab_type": "code",
    "id": "1AWrrzQAcKJD",
    "outputId": "fc26273c-449b-49f0-a20a-f2c0b7ebd125"
   },
   "outputs": [
    {
     "data": {
      "text/plain": [
       "3"
      ]
     },
     "execution_count": 7,
     "metadata": {
      "tags": []
     },
     "output_type": "execute_result"
    }
   ],
   "source": [
    "5 - 2"
   ]
  },
  {
   "cell_type": "code",
   "execution_count": 0,
   "metadata": {
    "colab": {
     "base_uri": "https://localhost:8080/",
     "height": 34
    },
    "colab_type": "code",
    "id": "muhqWqTgceS4",
    "outputId": "66c79981-3eeb-44b2-b229-b16cc7a6647a"
   },
   "outputs": [
    {
     "data": {
      "text/plain": [
       "'#DataSchool es una gran experiencia!'"
      ]
     },
     "execution_count": 8,
     "metadata": {
      "tags": []
     },
     "output_type": "execute_result"
    }
   ],
   "source": [
    "\"#DataSchool es una gran experiencia!\""
   ]
  },
  {
   "cell_type": "code",
   "execution_count": 15,
   "metadata": {
    "colab": {
     "base_uri": "https://localhost:8080/",
     "height": 34
    },
    "colab_type": "code",
    "id": "MTRh6PQKLaYo",
    "outputId": "574324d6-5347-41d1-c7da-6fca1d92c0b6"
   },
   "outputs": [
    {
     "data": {
      "text/plain": [
       "4.0"
      ]
     },
     "execution_count": 15,
     "metadata": {},
     "output_type": "execute_result"
    }
   ],
   "source": [
    "a = (10 + 2) / 3\n",
    "a"
   ]
  },
  {
   "cell_type": "markdown",
   "metadata": {
    "colab_type": "text",
    "id": "gLbjVjrDcVv7"
   },
   "source": [
    "## Funciones, Variables y Expresiones\n",
    "\n",
    "Todo esto se puede combinar, por ejemplo, podemos usar una expresión que guardamos en una variable y usamos la función `print` para mostrar el resultado."
   ]
  },
  {
   "cell_type": "code",
   "execution_count": 0,
   "metadata": {
    "colab": {
     "base_uri": "https://localhost:8080/",
     "height": 34
    },
    "colab_type": "code",
    "id": "MN94rjT7cxzo",
    "outputId": "7fcdbc2e-38d0-4ea9-802e-f407bd35de9b"
   },
   "outputs": [
    {
     "name": "stdout",
     "output_type": "stream",
     "text": [
      "43\n"
     ]
    }
   ],
   "source": [
    "x = 18 + 25\n",
    "print(x)"
   ]
  },
  {
   "cell_type": "markdown",
   "metadata": {
    "colab_type": "text",
    "id": "qWpIpaUvc4rC"
   },
   "source": [
    "## Animate y probá combinando lo que recién aprendiste...\n",
    "\n",
    "Guardá tu nombre y tu edad en una variable e intentá hacer que Python te imprima un mensaje de saludo."
   ]
  },
  {
   "cell_type": "code",
   "execution_count": 0,
   "metadata": {
    "colab": {},
    "colab_type": "code",
    "id": "Srkve-JInBF9"
   },
   "outputs": [],
   "source": []
  }
 ],
 "metadata": {
  "colab": {
   "name": "primeros_pasos.ipynb",
   "provenance": []
  },
  "kernelspec": {
   "display_name": "Python 3",
   "language": "python",
   "name": "python3"
  },
  "language_info": {
   "codemirror_mode": {
    "name": "ipython",
    "version": 3
   },
   "file_extension": ".py",
   "mimetype": "text/x-python",
   "name": "python",
   "nbconvert_exporter": "python",
   "pygments_lexer": "ipython3",
   "version": "3.7.7"
  }
 },
 "nbformat": 4,
 "nbformat_minor": 1
}
