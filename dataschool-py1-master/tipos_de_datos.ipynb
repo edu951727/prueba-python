{
 "cells": [
  {
   "cell_type": "markdown",
   "metadata": {
    "colab_type": "text",
    "id": "w4qMIrSBipQC"
   },
   "source": [
    "# Tipos de Datos Básicos"
   ]
  },
  {
   "cell_type": "markdown",
   "metadata": {
    "colab_type": "text",
    "id": "b79w139Ji0Me"
   },
   "source": [
    "## Números\n",
    "\n",
    "- **Enteros**: `20`, `12`, `-5`, `0`, `10920398983497549`\n",
    "- **Coma Flotante**: `3.5`, `-0.7`, `9837948.3284738`, `-19232343.845798`\n",
    "- **Complejos**: `2+3j`, `-1+8j`, `-67j`\n",
    "\n",
    "Pueden ser de cualquier tamaño, no hay límite. Tanto positivos como negativos. E inclusive podemos utilizar **Notación científica**: `2e3`, `10e-8`, `1.23e-5`.\n",
    "\n",
    "Recordemos que la coma decimal se escribe con `.`. Y podemos utilizar el símbolo `_` como separador de miles. Por ejemplo, podemos guardar el valor 123.000 en la variable x con la sentencia:\n",
    "\n",
    "- `x = 123000`\n",
    "\n",
    "o con la sentencia:\n",
    "\n",
    "- `x = 123_000`"
   ]
  },
  {
   "cell_type": "code",
   "execution_count": 0,
   "metadata": {
    "colab": {
     "base_uri": "https://localhost:8080/",
     "height": 34
    },
    "colab_type": "code",
    "id": "spR8wfRxiHSD",
    "outputId": "e043b3a0-aee0-4664-ef0e-32508241b8af"
   },
   "outputs": [
    {
     "data": {
      "text/plain": [
       "20"
      ]
     },
     "execution_count": 1,
     "metadata": {
      "tags": []
     },
     "output_type": "execute_result"
    }
   ],
   "source": [
    "20"
   ]
  },
  {
   "cell_type": "code",
   "execution_count": 0,
   "metadata": {
    "colab": {
     "base_uri": "https://localhost:8080/",
     "height": 34
    },
    "colab_type": "code",
    "id": "8nVsc2p1kDIh",
    "outputId": "de82fd18-dfc8-4750-872f-0221a55512f9"
   },
   "outputs": [
    {
     "data": {
      "text/plain": [
       "9837948.3284738"
      ]
     },
     "execution_count": 2,
     "metadata": {
      "tags": []
     },
     "output_type": "execute_result"
    }
   ],
   "source": [
    "9837948.3284738"
   ]
  },
  {
   "cell_type": "code",
   "execution_count": 0,
   "metadata": {
    "colab": {
     "base_uri": "https://localhost:8080/",
     "height": 34
    },
    "colab_type": "code",
    "id": "KSc1haJfkSjZ",
    "outputId": "004e67cf-27b0-4ad4-d8d6-dbaf409b4fca"
   },
   "outputs": [
    {
     "data": {
      "text/plain": [
       "(-0-67j)"
      ]
     },
     "execution_count": 3,
     "metadata": {
      "tags": []
     },
     "output_type": "execute_result"
    }
   ],
   "source": [
    "-67j"
   ]
  },
  {
   "cell_type": "code",
   "execution_count": 0,
   "metadata": {
    "colab": {
     "base_uri": "https://localhost:8080/",
     "height": 34
    },
    "colab_type": "code",
    "id": "O1j_wG9RkWdP",
    "outputId": "f55e2e8e-bc43-48e4-8b87-050584996e0e"
   },
   "outputs": [
    {
     "data": {
      "text/plain": [
       "2000.0"
      ]
     },
     "execution_count": 4,
     "metadata": {
      "tags": []
     },
     "output_type": "execute_result"
    }
   ],
   "source": [
    "2e3"
   ]
  },
  {
   "cell_type": "markdown",
   "metadata": {
    "colab_type": "text",
    "id": "MgLCrX3wkaAq"
   },
   "source": [
    "Podemos usar la función `type()` para que nos diga qué tipo de dato es el que estamos usando. Según el tipo de dato que tengamos la función nos dirá:\n",
    "- `int` para los números enteros (del inglés \"integer\")\n",
    "- `float` para los números en coma flotante (del inglés \"floating point\")\n",
    "- `complex` para los números complejos"
   ]
  },
  {
   "cell_type": "code",
   "execution_count": 0,
   "metadata": {
    "colab": {
     "base_uri": "https://localhost:8080/",
     "height": 34
    },
    "colab_type": "code",
    "id": "O-Pa-ZwqkjUp",
    "outputId": "a5248c0b-7b57-48e6-c66c-33dd96f616bb"
   },
   "outputs": [
    {
     "data": {
      "text/plain": [
       "int"
      ]
     },
     "execution_count": 5,
     "metadata": {
      "tags": []
     },
     "output_type": "execute_result"
    }
   ],
   "source": [
    "type(20)"
   ]
  },
  {
   "cell_type": "code",
   "execution_count": 0,
   "metadata": {
    "colab": {
     "base_uri": "https://localhost:8080/",
     "height": 34
    },
    "colab_type": "code",
    "id": "bLSZ0a-0khIm",
    "outputId": "50b3991c-00f5-43cb-f934-48a0076ed7f5"
   },
   "outputs": [
    {
     "data": {
      "text/plain": [
       "float"
      ]
     },
     "execution_count": 6,
     "metadata": {
      "tags": []
     },
     "output_type": "execute_result"
    }
   ],
   "source": [
    "type(9837948.3284738)"
   ]
  },
  {
   "cell_type": "code",
   "execution_count": 0,
   "metadata": {
    "colab": {
     "base_uri": "https://localhost:8080/",
     "height": 34
    },
    "colab_type": "code",
    "id": "yn8gM43Bkr3i",
    "outputId": "cff01b31-64b6-4d31-c612-0d7e29ee2a2f"
   },
   "outputs": [
    {
     "data": {
      "text/plain": [
       "complex"
      ]
     },
     "execution_count": 7,
     "metadata": {
      "tags": []
     },
     "output_type": "execute_result"
    }
   ],
   "source": [
    "type(-67j)"
   ]
  },
  {
   "cell_type": "code",
   "execution_count": 0,
   "metadata": {
    "colab": {
     "base_uri": "https://localhost:8080/",
     "height": 34
    },
    "colab_type": "code",
    "id": "O4tEZwiplKyQ",
    "outputId": "5bae9855-094b-4c90-e466-7a54571f2e12"
   },
   "outputs": [
    {
     "data": {
      "text/plain": [
       "float"
      ]
     },
     "execution_count": 8,
     "metadata": {
      "tags": []
     },
     "output_type": "execute_result"
    }
   ],
   "source": [
    "type(2e3)"
   ]
  },
  {
   "cell_type": "markdown",
   "metadata": {
    "colab_type": "text",
    "id": "BrkxgpTGlrPI"
   },
   "source": [
    "Jugá un poco con los números y la función `type()`. Definí una variable `numero` y cambiale su valor para representar diferentes tipos. Usá `type(numero)` para ver si obtenés los tipos de números que estás queriendo:"
   ]
  },
  {
   "cell_type": "code",
   "execution_count": 0,
   "metadata": {
    "colab": {},
    "colab_type": "code",
    "id": "oiRSq5uSlxT_"
   },
   "outputs": [],
   "source": []
  },
  {
   "cell_type": "markdown",
   "metadata": {
    "colab_type": "text",
    "id": "BJ8fQ5sFnrei"
   },
   "source": [
    "## Operadores aritméticos\n",
    "\n",
    "- Suma: `+`\n",
    "- Resta: `-`\n",
    "- Multiplicación: `*`\n",
    "- División: `/`\n",
    "- Módulo: `%`\n",
    "- División Entera: `//`\n",
    "- Potenciación: `**`"
   ]
  },
  {
   "cell_type": "code",
   "execution_count": 0,
   "metadata": {
    "colab": {
     "base_uri": "https://localhost:8080/",
     "height": 34
    },
    "colab_type": "code",
    "id": "KOrhYULIoOyj",
    "outputId": "d70dffc4-b8d0-4e94-c065-18978f5be0ed"
   },
   "outputs": [
    {
     "data": {
      "text/plain": [
       "7"
      ]
     },
     "execution_count": 11,
     "metadata": {
      "tags": []
     },
     "output_type": "execute_result"
    }
   ],
   "source": [
    "a = 5\n",
    "a + 2"
   ]
  },
  {
   "cell_type": "code",
   "execution_count": 0,
   "metadata": {
    "colab": {
     "base_uri": "https://localhost:8080/",
     "height": 34
    },
    "colab_type": "code",
    "id": "8Aai_shYoiRV",
    "outputId": "147f6bcc-cba9-4847-e3e3-07b1f039719c"
   },
   "outputs": [
    {
     "data": {
      "text/plain": [
       "10"
      ]
     },
     "execution_count": 12,
     "metadata": {
      "tags": []
     },
     "output_type": "execute_result"
    }
   ],
   "source": [
    "a * 2"
   ]
  },
  {
   "cell_type": "code",
   "execution_count": 0,
   "metadata": {
    "colab": {
     "base_uri": "https://localhost:8080/",
     "height": 34
    },
    "colab_type": "code",
    "id": "mb_zD6nColGt",
    "outputId": "2a5941ce-2e45-44ad-b550-a6c209d0cb05"
   },
   "outputs": [
    {
     "data": {
      "text/plain": [
       "25"
      ]
     },
     "execution_count": 13,
     "metadata": {
      "tags": []
     },
     "output_type": "execute_result"
    }
   ],
   "source": [
    "a ** 2"
   ]
  },
  {
   "cell_type": "code",
   "execution_count": 0,
   "metadata": {
    "colab": {
     "base_uri": "https://localhost:8080/",
     "height": 34
    },
    "colab_type": "code",
    "id": "Azxzazr4ooVx",
    "outputId": "4c5862ec-6e6b-4bf7-8356-ab344948daf2"
   },
   "outputs": [
    {
     "data": {
      "text/plain": [
       "36.0"
      ]
     },
     "execution_count": 14,
     "metadata": {
      "tags": []
     },
     "output_type": "execute_result"
    }
   ],
   "source": [
    "4.5 * 8"
   ]
  },
  {
   "cell_type": "code",
   "execution_count": 0,
   "metadata": {
    "colab": {
     "base_uri": "https://localhost:8080/",
     "height": 34
    },
    "colab_type": "code",
    "id": "SGy7RTORotcc",
    "outputId": "36f83267-787b-484a-9755-9cdb5f42a2ba"
   },
   "outputs": [
    {
     "data": {
      "text/plain": [
       "3.3333333333333335"
      ]
     },
     "execution_count": 15,
     "metadata": {
      "tags": []
     },
     "output_type": "execute_result"
    }
   ],
   "source": [
    "10 / 3"
   ]
  },
  {
   "cell_type": "code",
   "execution_count": 0,
   "metadata": {
    "colab": {
     "base_uri": "https://localhost:8080/",
     "height": 34
    },
    "colab_type": "code",
    "id": "moOggXu6oxFZ",
    "outputId": "dd858eb2-17c7-496e-f31c-2574925bc1e7"
   },
   "outputs": [
    {
     "data": {
      "text/plain": [
       "1"
      ]
     },
     "execution_count": 16,
     "metadata": {
      "tags": []
     },
     "output_type": "execute_result"
    }
   ],
   "source": [
    "10 % 3"
   ]
  },
  {
   "cell_type": "code",
   "execution_count": 0,
   "metadata": {
    "colab": {
     "base_uri": "https://localhost:8080/",
     "height": 34
    },
    "colab_type": "code",
    "id": "_jTpUOAMowWU",
    "outputId": "af16756c-943d-4ce7-8511-c1ba8c8b16c0"
   },
   "outputs": [
    {
     "data": {
      "text/plain": [
       "3"
      ]
     },
     "execution_count": 17,
     "metadata": {
      "tags": []
     },
     "output_type": "execute_result"
    }
   ],
   "source": [
    "10 // 3"
   ]
  },
  {
   "cell_type": "markdown",
   "metadata": {
    "colab_type": "text",
    "id": "QQQEVWohpLpG"
   },
   "source": [
    "### Precedencia de los operadores\n",
    "\n",
    "Los operadores aritméticos respetan la regla PEMDAS de precedencia. Es decir, se resuelven con el siguiente orden:\n",
    "\n",
    "1. **P**aréntesis\n",
    "2. **E**xponciación (potencia)\n",
    "3. **M**ultiplicación (producto)\n",
    "4. **D**ivisión (cociente)\n",
    "5. **A**dición (suma)\n",
    "6. **S**ubstracción (resta)\n",
    "\n",
    "Muchos terminamos usando Python como nuestra calculadora personal, te animás?"
   ]
  },
  {
   "cell_type": "code",
   "execution_count": 0,
   "metadata": {
    "colab": {},
    "colab_type": "code",
    "id": "Lc7itMicpR4c"
   },
   "outputs": [],
   "source": []
  },
  {
   "cell_type": "markdown",
   "metadata": {
    "colab_type": "text",
    "id": "amtT-wZ1l3_h"
   },
   "source": [
    "## Cadenas de Texto\n",
    "\n",
    "Las cadenas de texto en Python se definen entre comillas dobles `\"` o comillas simples `'`. Por eso en la función `print()` pusimos como argumento `\"Hola mundo!\"`, también es válido poner `'Hola mundo!'`."
   ]
  },
  {
   "cell_type": "code",
   "execution_count": 0,
   "metadata": {
    "colab": {
     "base_uri": "https://localhost:8080/",
     "height": 34
    },
    "colab_type": "code",
    "id": "hcETRNtlmhJo",
    "outputId": "067ae633-b875-4aa6-ab59-5b5cc3227b53"
   },
   "outputs": [
    {
     "name": "stdout",
     "output_type": "stream",
     "text": [
      "Hola mundo\n"
     ]
    }
   ],
   "source": [
    "print('Hola mundo')"
   ]
  },
  {
   "cell_type": "code",
   "execution_count": 0,
   "metadata": {
    "colab": {
     "base_uri": "https://localhost:8080/",
     "height": 34
    },
    "colab_type": "code",
    "id": "5qPiAg8Up2eC",
    "outputId": "14f7ad7e-b202-4080-ea75-cbb36d075aa2"
   },
   "outputs": [
    {
     "data": {
      "text/plain": [
       "str"
      ]
     },
     "execution_count": 18,
     "metadata": {
      "tags": []
     },
     "output_type": "execute_result"
    }
   ],
   "source": [
    "type(\"Hola mundo!\")"
   ]
  },
  {
   "cell_type": "code",
   "execution_count": 0,
   "metadata": {
    "colab": {
     "base_uri": "https://localhost:8080/",
     "height": 34
    },
    "colab_type": "code",
    "id": "9sShxxQwp5-d",
    "outputId": "d63707f6-32ae-458e-bab4-3f46b23877f6"
   },
   "outputs": [
    {
     "data": {
      "text/plain": [
       "str"
      ]
     },
     "execution_count": 19,
     "metadata": {
      "tags": []
     },
     "output_type": "execute_result"
    }
   ],
   "source": [
    "type('Hola mundo')"
   ]
  },
  {
   "cell_type": "markdown",
   "metadata": {
    "colab_type": "text",
    "id": "m6qAiVrbmjQn"
   },
   "source": [
    "Si a `type` le pasamos una cadena de texto nos devuelve `str` (del inglés, *String*).\n",
    "\n",
    "Si queremos poner cadenas de texto multilínea, podemos utilizar triple comilla simple `'''` o triple comilla doble `\"\"\"\"`.\n",
    "Lo que no podemos hacer es mezclar las comillas que usamos. Si empezamos con `\"`, terminamos con `\"`. Lo mismo para `'`."
   ]
  },
  {
   "cell_type": "code",
   "execution_count": 0,
   "metadata": {
    "colab": {
     "base_uri": "https://localhost:8080/",
     "height": 34
    },
    "colab_type": "code",
    "id": "sSFIT8zknfPO",
    "outputId": "b9e6f25d-fe05-4ccd-83c2-4b7df70a6719"
   },
   "outputs": [
    {
     "data": {
      "text/plain": [
       "False"
      ]
     },
     "execution_count": 3,
     "metadata": {
      "tags": []
     },
     "output_type": "execute_result"
    }
   ],
   "source": [
    "parrafo = \"\"\"En un lugar de la Mancha, de cuyo nombre...\n",
    "Es, pues, de saber que este sobredicho hidalgo, los ratos...\n",
    "\n",
    "\n",
    "Con estas razones perdía el pobre caballero el juicio, y...\n",
    "\"\"\"\n",
    "parrafo.istitle()"
   ]
  },
  {
   "cell_type": "code",
   "execution_count": 0,
   "metadata": {
    "colab": {
     "base_uri": "https://localhost:8080/",
     "height": 34
    },
    "colab_type": "code",
    "id": "eshm_bqmTDCa",
    "outputId": "9890df4a-e56c-4e85-e77a-4994c94b8273"
   },
   "outputs": [
    {
     "data": {
      "text/plain": [
       "True"
      ]
     },
     "execution_count": 1,
     "metadata": {
      "tags": []
     },
     "output_type": "execute_result"
    }
   ],
   "source": [
    "titulo = \"Don Quijote\"\n",
    "titulo.istitle()"
   ]
  },
  {
   "cell_type": "markdown",
   "metadata": {
    "colab_type": "text",
    "id": "Ee7QL1_hnjs1"
   },
   "source": [
    "Ahora es tu turno...\n"
   ]
  },
  {
   "cell_type": "code",
   "execution_count": 0,
   "metadata": {
    "colab": {},
    "colab_type": "code",
    "id": "0jFNJ0R5nigi"
   },
   "outputs": [],
   "source": []
  },
  {
   "cell_type": "markdown",
   "metadata": {
    "colab_type": "text",
    "id": "UXnTS-L8pvan"
   },
   "source": [
    "Otra de las funciones que viene con Python, además de `print` y `type` que ya las hemos visto, es la función `len` que devuelve la longitud del objeto que le pasemos como argumento. En el caso de las cadenas de texto nos devolverá la longitud de la cadena, es decir, la cantidad de caracteres de la misma.\n",
    "        "
   ]
  },
  {
   "cell_type": "code",
   "execution_count": 0,
   "metadata": {
    "colab": {
     "base_uri": "https://localhost:8080/",
     "height": 34
    },
    "colab_type": "code",
    "id": "iDBfmNNtu_XU",
    "outputId": "d0f4ccc0-08de-4465-dc0d-3819fbbe83f9"
   },
   "outputs": [
    {
     "data": {
      "text/plain": [
       "11"
      ]
     },
     "execution_count": 1,
     "metadata": {
      "tags": []
     },
     "output_type": "execute_result"
    }
   ],
   "source": [
    "len(titulo)"
   ]
  },
  {
   "cell_type": "code",
   "execution_count": 0,
   "metadata": {
    "colab": {
     "base_uri": "https://localhost:8080/",
     "height": 34
    },
    "colab_type": "code",
    "id": "XafXDoQkvD7l",
    "outputId": "be5223f4-9516-44ec-ec85-a2ab4cc15f81"
   },
   "outputs": [
    {
     "data": {
      "text/plain": [
       "167"
      ]
     },
     "execution_count": 4,
     "metadata": {
      "tags": []
     },
     "output_type": "execute_result"
    }
   ],
   "source": [
    "len(parrafo)"
   ]
  },
  {
   "cell_type": "markdown",
   "metadata": {
    "colab_type": "text",
    "id": "_WV1cf5VvJH2"
   },
   "source": [
    "Escribí tu nombre en una variable y hacé que Python calcule la longitud del mismo:"
   ]
  },
  {
   "cell_type": "code",
   "execution_count": 0,
   "metadata": {
    "colab": {},
    "colab_type": "code",
    "id": "L5m_ClHCvPcV"
   },
   "outputs": [],
   "source": []
  },
  {
   "cell_type": "markdown",
   "metadata": {
    "colab_type": "text",
    "id": "Ok1iTFllpxtD"
   },
   "source": [
    "### Métodos en cadenas\n",
    "\n",
    "Las cadenas de texto admiten varios métodos que se pueden llamar con un punto a continuación de la cadena. Por ejemplo: el método `upper()` devuelve en mayúsculas el texto."
   ]
  },
  {
   "cell_type": "code",
   "execution_count": 0,
   "metadata": {
    "colab": {
     "base_uri": "https://localhost:8080/",
     "height": 34
    },
    "colab_type": "code",
    "id": "3F1-SN6sqgVP",
    "outputId": "6371c815-381b-4a18-afb0-bdc074f3e337"
   },
   "outputs": [
    {
     "data": {
      "text/plain": [
       "'EN UN LUGAR DE LA MANCHA, DE CUYO NOMBRE...'"
      ]
     },
     "execution_count": 20,
     "metadata": {
      "tags": []
     },
     "output_type": "execute_result"
    }
   ],
   "source": [
    "\"En un lugar de la Mancha, de cuyo nombre...\".upper()"
   ]
  },
  {
   "cell_type": "code",
   "execution_count": 0,
   "metadata": {
    "colab": {
     "base_uri": "https://localhost:8080/",
     "height": 34
    },
    "colab_type": "code",
    "id": "vmMJSvHSqsMj",
    "outputId": "c719d708-26ed-469f-b126-e2bec5eb42ec"
   },
   "outputs": [
    {
     "data": {
      "text/plain": [
       "'EN UN LUGAR DE LA MANCHA, DE CUYO NOMBRE...'"
      ]
     },
     "execution_count": 3,
     "metadata": {
      "tags": []
     },
     "output_type": "execute_result"
    }
   ],
   "source": [
    "x = \"En un lugar de la Mancha, de cuyo nombre...\"\n",
    "x.upper()"
   ]
  },
  {
   "cell_type": "code",
   "execution_count": 0,
   "metadata": {
    "colab": {
     "base_uri": "https://localhost:8080/",
     "height": 34
    },
    "colab_type": "code",
    "id": "iqDG0MxKRq7S",
    "outputId": "97ba1ed5-ce5c-4500-fbad-3223489a7ba7"
   },
   "outputs": [
    {
     "data": {
      "text/plain": [
       "False"
      ]
     },
     "execution_count": 6,
     "metadata": {
      "tags": []
     },
     "output_type": "execute_result"
    }
   ],
   "source": [
    "x.isdigit()"
   ]
  },
  {
   "cell_type": "code",
   "execution_count": 0,
   "metadata": {
    "colab": {
     "base_uri": "https://localhost:8080/",
     "height": 34
    },
    "colab_type": "code",
    "id": "3QUVIaNMRv0Y",
    "outputId": "1bb89755-750a-4539-e56e-eec339c39544"
   },
   "outputs": [
    {
     "data": {
      "text/plain": [
       "['En un lugar de la Mancha', ' de cuyo nombre...']"
      ]
     },
     "execution_count": 7,
     "metadata": {
      "tags": []
     },
     "output_type": "execute_result"
    }
   ],
   "source": [
    "x.split(',')"
   ]
  },
  {
   "cell_type": "markdown",
   "metadata": {
    "colab_type": "text",
    "id": "x_wnNkl1qyJ6"
   },
   "source": [
    "Ya sea que lo ejecutemos sobre la misma cadena o si la tenemos guardada en una variable, los métodos de cadenas se pueden ejecutar indistintamente.\n",
    "\n",
    "Si queremos ver qué métodos tenemos disponibles, podemos usar la funcón `dir` sobre una cadena."
   ]
  },
  {
   "cell_type": "code",
   "execution_count": 0,
   "metadata": {
    "colab": {
     "base_uri": "https://localhost:8080/",
     "height": 1000
    },
    "colab_type": "code",
    "id": "H_njc_XlrH51",
    "outputId": "685714e7-9675-423f-8fef-27edfb6ae5c7"
   },
   "outputs": [
    {
     "data": {
      "text/plain": [
       "['__add__',\n",
       " '__class__',\n",
       " '__contains__',\n",
       " '__delattr__',\n",
       " '__dir__',\n",
       " '__doc__',\n",
       " '__eq__',\n",
       " '__format__',\n",
       " '__ge__',\n",
       " '__getattribute__',\n",
       " '__getitem__',\n",
       " '__getnewargs__',\n",
       " '__gt__',\n",
       " '__hash__',\n",
       " '__init__',\n",
       " '__init_subclass__',\n",
       " '__iter__',\n",
       " '__le__',\n",
       " '__len__',\n",
       " '__lt__',\n",
       " '__mod__',\n",
       " '__mul__',\n",
       " '__ne__',\n",
       " '__new__',\n",
       " '__reduce__',\n",
       " '__reduce_ex__',\n",
       " '__repr__',\n",
       " '__rmod__',\n",
       " '__rmul__',\n",
       " '__setattr__',\n",
       " '__sizeof__',\n",
       " '__str__',\n",
       " '__subclasshook__',\n",
       " 'capitalize',\n",
       " 'casefold',\n",
       " 'center',\n",
       " 'count',\n",
       " 'encode',\n",
       " 'endswith',\n",
       " 'expandtabs',\n",
       " 'find',\n",
       " 'format',\n",
       " 'format_map',\n",
       " 'index',\n",
       " 'isalnum',\n",
       " 'isalpha',\n",
       " 'isdecimal',\n",
       " 'isdigit',\n",
       " 'isidentifier',\n",
       " 'islower',\n",
       " 'isnumeric',\n",
       " 'isprintable',\n",
       " 'isspace',\n",
       " 'istitle',\n",
       " 'isupper',\n",
       " 'join',\n",
       " 'ljust',\n",
       " 'lower',\n",
       " 'lstrip',\n",
       " 'maketrans',\n",
       " 'partition',\n",
       " 'replace',\n",
       " 'rfind',\n",
       " 'rindex',\n",
       " 'rjust',\n",
       " 'rpartition',\n",
       " 'rsplit',\n",
       " 'rstrip',\n",
       " 'split',\n",
       " 'splitlines',\n",
       " 'startswith',\n",
       " 'strip',\n",
       " 'swapcase',\n",
       " 'title',\n",
       " 'translate',\n",
       " 'upper',\n",
       " 'zfill']"
      ]
     },
     "execution_count": 22,
     "metadata": {
      "tags": []
     },
     "output_type": "execute_result"
    }
   ],
   "source": [
    "dir(x)"
   ]
  },
  {
   "cell_type": "markdown",
   "metadata": {
    "colab_type": "text",
    "id": "gD5U8hRwrNDr"
   },
   "source": [
    "Intentá descifrar qué hace cada método sobre la cadena que tenemos almacenada en `x`:"
   ]
  },
  {
   "cell_type": "code",
   "execution_count": 0,
   "metadata": {
    "colab": {
     "base_uri": "https://localhost:8080/",
     "height": 34
    },
    "colab_type": "code",
    "id": "l3Y9BteDrVXw",
    "outputId": "b5d3eddc-aa33-4be1-f00d-68e90f7844f2"
   },
   "outputs": [
    {
     "data": {
      "text/plain": [
       "'en un lugar de la mancha, de cuyo nombre...'"
      ]
     },
     "execution_count": 24,
     "metadata": {
      "tags": []
     },
     "output_type": "execute_result"
    }
   ],
   "source": [
    "x.lower()"
   ]
  },
  {
   "cell_type": "markdown",
   "metadata": {
    "colab_type": "text",
    "id": "m2J1Jwp6JvtB"
   },
   "source": [
    "Para no andar jugando a los detectives Python nos ofrece además la función `help` que nos informa con una breve ayuda sobre el método que queremos saber:\n",
    "\n",
    "> Fijate que luego de `lower` no ponemos los `()`. Ya que si ponemos los paréntesis Python primero ejecutará el método `lower()` sobre la variable `x` y eso es un `str`."
   ]
  },
  {
   "cell_type": "code",
   "execution_count": 0,
   "metadata": {
    "colab": {
     "base_uri": "https://localhost:8080/",
     "height": 139
    },
    "colab_type": "code",
    "id": "vWrAybkYJvO2",
    "outputId": "e8b884c2-1ca4-4588-cdec-b5e31af361c1"
   },
   "outputs": [
    {
     "name": "stdout",
     "output_type": "stream",
     "text": [
      "Help on built-in function lower:\n",
      "\n",
      "lower(...) method of builtins.str instance\n",
      "    S.lower() -> str\n",
      "    \n",
      "    Return a copy of the string S converted to lowercase.\n",
      "\n"
     ]
    }
   ],
   "source": [
    "help(x.lower)"
   ]
  },
  {
   "cell_type": "markdown",
   "metadata": {
    "colab_type": "text",
    "id": "VfP8WtChpXOW"
   },
   "source": [
    "### Formateando cadenas de texto\n",
    "\n",
    "Si bien hay varias formas de darle formato a las cadenas de texto, lo más práctico es usar las `f-string`. Anteponemos una letra `f` al comienzo de la cadena y luego dentro de la misma utilizamos las `{}` para poner el valor o la expresión que queremos usar.\n",
    "\n",
    "Guardemos 2 números en las variables `numero1` y `numero2`, realicemos la suma y usemos una `f-string` para mostrar los 3 valores:"
   ]
  },
  {
   "cell_type": "code",
   "execution_count": 0,
   "metadata": {
    "colab": {
     "base_uri": "https://localhost:8080/",
     "height": 34
    },
    "colab_type": "code",
    "id": "7Yu0Trm8sTdL",
    "outputId": "7d81c509-a62f-4f0e-cb87-37b7221fc040"
   },
   "outputs": [
    {
     "name": "stdout",
     "output_type": "stream",
     "text": [
      "El resultado de la suma entre 18 y 34 da como resultado 52\n"
     ]
    }
   ],
   "source": [
    "numero1 = 18\n",
    "numero2 = 34\n",
    "resultado = numero1 + numero2\n",
    "print(f\"El resultado de la suma entre {numero1} y {numero2} da como resultado {resultado}\")"
   ]
  },
  {
   "cell_type": "markdown",
   "metadata": {
    "colab_type": "text",
    "id": "XY1tQtumsnOb"
   },
   "source": [
    "Este es TU momento..."
   ]
  },
  {
   "cell_type": "code",
   "execution_count": 0,
   "metadata": {
    "colab": {},
    "colab_type": "code",
    "id": "QXpTQ7IrsqNu"
   },
   "outputs": [],
   "source": []
  },
  {
   "cell_type": "markdown",
   "metadata": {
    "colab_type": "text",
    "id": "4MQMXEX9stxY"
   },
   "source": [
    "## Ingreso de datos\n",
    "\n",
    "La función `input()` nos sirve para aceptar el ingreso de valores por teclado. Dentro de los paréntesis podemos escribir una cadena de texto para que el usuario visualice. La función devuelve el valor ingresado antes de presionar ENTER."
   ]
  },
  {
   "cell_type": "code",
   "execution_count": 0,
   "metadata": {
    "colab": {
     "base_uri": "https://localhost:8080/",
     "height": 34
    },
    "colab_type": "code",
    "id": "5No-i3VhtC_F",
    "outputId": "093128b0-2cb8-4653-ed60-1d83939c0db0"
   },
   "outputs": [
    {
     "name": "stdout",
     "output_type": "stream",
     "text": [
      "Ingrese un número: 10\n"
     ]
    }
   ],
   "source": [
    "x = input('Ingrese un número: ')"
   ]
  },
  {
   "cell_type": "code",
   "execution_count": 0,
   "metadata": {
    "colab": {
     "base_uri": "https://localhost:8080/",
     "height": 34
    },
    "colab_type": "code",
    "id": "T47D57EEtIND",
    "outputId": "077d4afd-9dd5-4662-8763-7fa396ece83b"
   },
   "outputs": [
    {
     "data": {
      "text/plain": [
       "'10'"
      ]
     },
     "execution_count": 28,
     "metadata": {
      "tags": []
     },
     "output_type": "execute_result"
    }
   ],
   "source": [
    "x"
   ]
  },
  {
   "cell_type": "code",
   "execution_count": 0,
   "metadata": {
    "colab": {
     "base_uri": "https://localhost:8080/",
     "height": 34
    },
    "colab_type": "code",
    "id": "cu23IXGLtJ1K",
    "outputId": "bb6ca90d-e307-472e-b0de-2e1e85e2e6c3"
   },
   "outputs": [
    {
     "data": {
      "text/plain": [
       "str"
      ]
     },
     "execution_count": 29,
     "metadata": {
      "tags": []
     },
     "output_type": "execute_result"
    }
   ],
   "source": [
    "type(x)"
   ]
  },
  {
   "cell_type": "markdown",
   "metadata": {
    "colab_type": "text",
    "id": "sXERgC8WtLvw"
   },
   "source": [
    "La función `input` SIEMPRE nos va a devolver una cadena de texto. Si queremos que ese valor sea un número, tenemos que convertirlo con `int()`, `float()` o `complex()` según sea nuestra intención."
   ]
  },
  {
   "cell_type": "code",
   "execution_count": 0,
   "metadata": {
    "colab": {
     "base_uri": "https://localhost:8080/",
     "height": 34
    },
    "colab_type": "code",
    "id": "zzBxiAuYtciv",
    "outputId": "4e5f8a4a-2339-46af-e6e0-fc0c1e1cec5f"
   },
   "outputs": [
    {
     "data": {
      "text/plain": [
       "10"
      ]
     },
     "execution_count": 30,
     "metadata": {
      "tags": []
     },
     "output_type": "execute_result"
    }
   ],
   "source": [
    "int(x)"
   ]
  },
  {
   "cell_type": "code",
   "execution_count": 0,
   "metadata": {
    "colab": {
     "base_uri": "https://localhost:8080/",
     "height": 34
    },
    "colab_type": "code",
    "id": "B75iIiiRtfNq",
    "outputId": "2a2791a6-544b-4b19-914f-e7474514cf71"
   },
   "outputs": [
    {
     "data": {
      "text/plain": [
       "10.0"
      ]
     },
     "execution_count": 31,
     "metadata": {
      "tags": []
     },
     "output_type": "execute_result"
    }
   ],
   "source": [
    "float(x)"
   ]
  },
  {
   "cell_type": "code",
   "execution_count": 0,
   "metadata": {
    "colab": {
     "base_uri": "https://localhost:8080/",
     "height": 34
    },
    "colab_type": "code",
    "id": "zX_pJEsOthwD",
    "outputId": "f68125ae-082b-47ad-a6e7-c79fbe225b24"
   },
   "outputs": [
    {
     "data": {
      "text/plain": [
       "(10+0j)"
      ]
     },
     "execution_count": 32,
     "metadata": {
      "tags": []
     },
     "output_type": "execute_result"
    }
   ],
   "source": [
    "complex(x)"
   ]
  },
  {
   "cell_type": "code",
   "execution_count": 0,
   "metadata": {
    "colab": {
     "base_uri": "https://localhost:8080/",
     "height": 34
    },
    "colab_type": "code",
    "id": "A0CTr71otqTD",
    "outputId": "07a58ad8-1d8e-4338-dc1a-02f09ddbf023"
   },
   "outputs": [
    {
     "data": {
      "text/plain": [
       "'10'"
      ]
     },
     "execution_count": 33,
     "metadata": {
      "tags": []
     },
     "output_type": "execute_result"
    }
   ],
   "source": [
    "x"
   ]
  },
  {
   "cell_type": "markdown",
   "metadata": {
    "colab_type": "text",
    "id": "UJwQd92ytkWQ"
   },
   "source": [
    "Notemos que acá nunca volvemos a guardar el valor de `x`, lo que se suele hacer es directamente llamar a la función que queremos y luego llamar dentro a `input()`.\n",
    "\n",
    "Por ejemplo, si quisieramos tener en `x` un entero:"
   ]
  },
  {
   "cell_type": "code",
   "execution_count": 0,
   "metadata": {
    "colab": {
     "base_uri": "https://localhost:8080/",
     "height": 34
    },
    "colab_type": "code",
    "id": "gxLB-GV0t3bX",
    "outputId": "4c173149-8976-49fd-eb4d-14be533a3957"
   },
   "outputs": [
    {
     "name": "stdout",
     "output_type": "stream",
     "text": [
      "Ingrese un número: 10\n"
     ]
    }
   ],
   "source": [
    "x = int(input(\"Ingrese un número: \"))"
   ]
  },
  {
   "cell_type": "code",
   "execution_count": 0,
   "metadata": {
    "colab": {
     "base_uri": "https://localhost:8080/",
     "height": 34
    },
    "colab_type": "code",
    "id": "J-LlFb1ut-DM",
    "outputId": "6021a50e-7bfa-43dc-c998-460423310143"
   },
   "outputs": [
    {
     "data": {
      "text/plain": [
       "10"
      ]
     },
     "execution_count": 35,
     "metadata": {
      "tags": []
     },
     "output_type": "execute_result"
    }
   ],
   "source": [
    "x"
   ]
  },
  {
   "cell_type": "code",
   "execution_count": 0,
   "metadata": {
    "colab": {
     "base_uri": "https://localhost:8080/",
     "height": 34
    },
    "colab_type": "code",
    "id": "0EhRXjZrt9U-",
    "outputId": "ecc873d0-194b-4152-9b44-8d302ef5a2b8"
   },
   "outputs": [
    {
     "data": {
      "text/plain": [
       "int"
      ]
     },
     "execution_count": 36,
     "metadata": {
      "tags": []
     },
     "output_type": "execute_result"
    }
   ],
   "source": [
    "type(x)"
   ]
  },
  {
   "cell_type": "code",
   "execution_count": 0,
   "metadata": {
    "colab": {
     "base_uri": "https://localhost:8080/",
     "height": 52
    },
    "colab_type": "code",
    "id": "NyGy_nSKTYJ3",
    "outputId": "ea411c54-1639-4688-f48c-64d0590b8d1c"
   },
   "outputs": [
    {
     "name": "stdout",
     "output_type": "stream",
     "text": [
      "Ingrese su nombre: Leandro\n"
     ]
    },
    {
     "data": {
      "text/plain": [
       "'Leandro'"
      ]
     },
     "execution_count": 11,
     "metadata": {
      "tags": []
     },
     "output_type": "execute_result"
    }
   ],
   "source": [
    "input(\"Ingrese su nombre: \")"
   ]
  },
  {
   "cell_type": "code",
   "execution_count": 0,
   "metadata": {
    "colab": {
     "base_uri": "https://localhost:8080/",
     "height": 34
    },
    "colab_type": "code",
    "id": "sRrSlZACTpVm",
    "outputId": "f40956ff-52a0-4949-d410-dd22e3511fdf"
   },
   "outputs": [
    {
     "name": "stdout",
     "output_type": "stream",
     "text": [
      "Ingrese su nombre: Leo\n"
     ]
    }
   ],
   "source": [
    "name = input(\"Ingrese su nombre: \")"
   ]
  },
  {
   "cell_type": "code",
   "execution_count": 0,
   "metadata": {
    "colab": {
     "base_uri": "https://localhost:8080/",
     "height": 34
    },
    "colab_type": "code",
    "id": "6ILEo_AsTwlE",
    "outputId": "fe3805fd-e1b0-46ba-ca6a-9d7d5d662267"
   },
   "outputs": [
    {
     "data": {
      "text/plain": [
       "'Leo'"
      ]
     },
     "execution_count": 13,
     "metadata": {
      "tags": []
     },
     "output_type": "execute_result"
    }
   ],
   "source": [
    "name"
   ]
  },
  {
   "cell_type": "markdown",
   "metadata": {
    "colab_type": "text",
    "id": "OSWZVQGzuCkF"
   },
   "source": [
    "Si ingresamos un valor que la función no puede convertir, nos tirará un error."
   ]
  },
  {
   "cell_type": "code",
   "execution_count": 0,
   "metadata": {
    "colab": {
     "base_uri": "https://localhost:8080/",
     "height": 185
    },
    "colab_type": "code",
    "id": "TCwq95kIuGjJ",
    "outputId": "632d0262-0963-4be1-c6f4-bfc05470cf12"
   },
   "outputs": [
    {
     "name": "stdout",
     "output_type": "stream",
     "text": [
      "Ingrese un número: diez\n"
     ]
    },
    {
     "ename": "ValueError",
     "evalue": "ignored",
     "output_type": "error",
     "traceback": [
      "\u001b[0;31m---------------------------------------------------------------------------\u001b[0m",
      "\u001b[0;31mValueError\u001b[0m                                Traceback (most recent call last)",
      "\u001b[0;32m<ipython-input-37-f2a3773c152f>\u001b[0m in \u001b[0;36m<module>\u001b[0;34m()\u001b[0m\n\u001b[0;32m----> 1\u001b[0;31m \u001b[0mx\u001b[0m \u001b[0;34m=\u001b[0m \u001b[0mint\u001b[0m\u001b[0;34m(\u001b[0m\u001b[0minput\u001b[0m\u001b[0;34m(\u001b[0m\u001b[0;34m\"Ingrese un número: \"\u001b[0m\u001b[0;34m)\u001b[0m\u001b[0;34m)\u001b[0m\u001b[0;34m\u001b[0m\u001b[0;34m\u001b[0m\u001b[0m\n\u001b[0m",
      "\u001b[0;31mValueError\u001b[0m: invalid literal for int() with base 10: 'diez'"
     ]
    }
   ],
   "source": [
    "x = int(input(\"Ingrese un número: \"))"
   ]
  },
  {
   "cell_type": "markdown",
   "metadata": {
    "colab_type": "text",
    "id": "yOn1-lk9vLA5"
   },
   "source": [
    "### Ejercicio:\n",
    "\n",
    "Pedile al usuario su nombre, guardalo en una variable y luego imprimí un mensaje que salude al usuario:"
   ]
  },
  {
   "cell_type": "code",
   "execution_count": 0,
   "metadata": {
    "colab": {},
    "colab_type": "code",
    "id": "XJisSBTOvX4-"
   },
   "outputs": [],
   "source": []
  }
 ],
 "metadata": {
  "colab": {
   "name": "tipos_de_datos.ipynb",
   "provenance": []
  },
  "kernelspec": {
   "display_name": "Python 3",
   "language": "python",
   "name": "python3"
  },
  "language_info": {
   "codemirror_mode": {
    "name": "ipython",
    "version": 3
   },
   "file_extension": ".py",
   "mimetype": "text/x-python",
   "name": "python",
   "nbconvert_exporter": "python",
   "pygments_lexer": "ipython3",
   "version": "3.7.7"
  }
 },
 "nbformat": 4,
 "nbformat_minor": 1
}
