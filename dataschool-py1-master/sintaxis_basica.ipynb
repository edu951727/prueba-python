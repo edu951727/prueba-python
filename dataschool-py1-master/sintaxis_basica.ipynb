{
 "cells": [
  {
   "cell_type": "markdown",
   "metadata": {
    "colab_type": "text",
    "id": "3jkK1mI9dq6a"
   },
   "source": [
    "# Sintáxis Básica\n",
    "\n",
    "## Nombres \n",
    "\n",
    "Las variables y funciones pueden llamarse con cualquier puede ser cualquier combinación alfanumérica que debe cumplir con las siguientes reglas:\n",
    "- puede usarse cualquier letra de la `a` a la `z`, minúscula o mayúscula y cualquier combinación de dígitos del `0` al `9`\n",
    "- no puede empezar con un número\n",
    "- puede contener el símbolo `_` (que se suele usar para separar palabras)\n",
    "- y no puede usarse ninguna palabra reservada\n",
    "\n",
    "## Palabras reservadas\n",
    "\n",
    "Python tiene 35 palabras reservadas que son parte de la sintáxis básica del lenguaje y no pueden usarse para nombrar funciones y/o variables."
   ]
  },
  {
   "cell_type": "code",
   "execution_count": 1,
   "metadata": {
    "colab": {
     "base_uri": "https://localhost:8080/",
     "height": 590
    },
    "colab_type": "code",
    "id": "bf1RKzvufnt4",
    "outputId": "7612e668-c3de-4525-c380-42c136c95bb0"
   },
   "outputs": [
    {
     "name": "stdout",
     "output_type": "stream",
     "text": [
      "False\n",
      "None\n",
      "True\n",
      "and\n",
      "as\n",
      "assert\n",
      "async\n",
      "await\n",
      "break\n",
      "class\n",
      "continue\n",
      "def\n",
      "del\n",
      "elif\n",
      "else\n",
      "except\n",
      "finally\n",
      "for\n",
      "from\n",
      "global\n",
      "if\n",
      "import\n",
      "in\n",
      "is\n",
      "lambda\n",
      "nonlocal\n",
      "not\n",
      "or\n",
      "pass\n",
      "raise\n",
      "return\n",
      "try\n",
      "while\n",
      "with\n",
      "yield\n"
     ]
    }
   ],
   "source": [
    "import keyword\n",
    "\n",
    "for keyword in keyword.kwlist:\n",
    "    print(keyword)"
   ]
  },
  {
   "cell_type": "markdown",
   "metadata": {
    "colab_type": "text",
    "id": "h39Nple4f-QI"
   },
   "source": [
    "Como verás, cuando escribimos alguna de las palabras reservadas el intérprete nos ayuda y nos la marca con un color especial."
   ]
  },
  {
   "cell_type": "markdown",
   "metadata": {
    "colab_type": "text",
    "id": "1McrgELigNaU"
   },
   "source": [
    "## Bloques de código\n",
    "\n",
    "Algunas sentencias deben escribirse con un bloque de código, es decir, varias instrucciones que sirven para obtener uno o más valores. Los bloques de código en Python están determinados por la *indentación*, generalmente vienen luego de un `:` y por convención se utilizan 4 espacios de sangría.\n",
    "\n",
    "> En otros lenguajes se utilizan símbolos como las `{}` para determinar qué sentencias están dentro de cada bloque. \n",
    "\n",
    "## Comentarios\n",
    "\n",
    "Si anteponemos un `#` a una sentencia el intérprete omitirá la ejecución de esa línea. Por lo general se dejan comentarios en le código para ayudar a que sea más fácil de entender.\n",
    "\n",
    "**Leemos más código del que escribimos**\n",
    "\n",
    "Por esta razón está muy bueno ingresar comentarios en nuestro código. Nos ayuda a que sea más fácil de comprender, usar, mejorar y modificar.\n",
    "\n",
    "Dale \"Play\" a la celda siguiente y observá cómo nada se ejecuta."
   ]
  },
  {
   "cell_type": "code",
   "execution_count": 2,
   "metadata": {
    "colab": {},
    "colab_type": "code",
    "id": "IK5aej-Ahmbt"
   },
   "outputs": [],
   "source": [
    "# esto es un comentario y el intérprete no lo va a ejecutar"
   ]
  },
  {
   "cell_type": "markdown",
   "metadata": {
    "colab_type": "text",
    "id": "zOpLenEPo8s5"
   },
   "source": [
    "En cambio, si nos olvidamos del `#`, Python nos tirará un error de sintaxis: `SintaxError`."
   ]
  },
  {
   "cell_type": "code",
   "execution_count": 3,
   "metadata": {
    "colab": {
     "base_uri": "https://localhost:8080/",
     "height": 132
    },
    "colab_type": "code",
    "id": "U8IHcphIhqcz",
    "outputId": "a33ca7bc-58be-409f-e070-c82be6442cb0"
   },
   "outputs": [
    {
     "ename": "SyntaxError",
     "evalue": "invalid syntax (<ipython-input-3-8b1475ced730>, line 1)",
     "output_type": "error",
     "traceback": [
      "\u001b[0;36m  File \u001b[0;32m\"<ipython-input-3-8b1475ced730>\"\u001b[0;36m, line \u001b[0;32m1\u001b[0m\n\u001b[0;31m    esto es un comentario y el intérprete no lo va a ejecutar\u001b[0m\n\u001b[0m          ^\u001b[0m\n\u001b[0;31mSyntaxError\u001b[0m\u001b[0;31m:\u001b[0m invalid syntax\n"
     ]
    }
   ],
   "source": [
    "esto es un comentario y el intérprete no lo va a ejecutar"
   ]
  },
  {
   "cell_type": "markdown",
   "metadata": {
    "colab_type": "text",
    "id": "g0jtBDz1hwT9"
   },
   "source": [
    "Al no anteponer el `#` en la segunda línea el intérprete nos tira `SyntaxError` (error de sintáxis) porque la sentencia que escribimos no es código Python válido.\n",
    "\n",
    "Ahora probá vos..."
   ]
  },
  {
   "cell_type": "code",
   "execution_count": null,
   "metadata": {
    "colab": {},
    "colab_type": "code",
    "id": "Ydpqq4LXnNmk"
   },
   "outputs": [],
   "source": [
    "print(\"Hola mundo!\")"
   ]
  }
 ],
 "metadata": {
  "colab": {
   "name": "sintaxis_basica.ipynb",
   "provenance": []
  },
  "kernelspec": {
   "display_name": "Python 3",
   "language": "python",
   "name": "python3"
  },
  "language_info": {
   "codemirror_mode": {
    "name": "ipython",
    "version": 3
   },
   "file_extension": ".py",
   "mimetype": "text/x-python",
   "name": "python",
   "nbconvert_exporter": "python",
   "pygments_lexer": "ipython3",
   "version": "3.7.7"
  }
 },
 "nbformat": 4,
 "nbformat_minor": 1
}
