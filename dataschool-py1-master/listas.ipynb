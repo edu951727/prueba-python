{
 "cells": [
  {
   "cell_type": "markdown",
   "metadata": {
    "colab_type": "text",
    "id": "Ihm84LX6KTV1"
   },
   "source": [
    "# Listas\n",
    "\n",
    "Una lista es un conjunto de objetos que se identifican por un nombre y un índice. \n",
    "Las listas en Python se definen entre `[]` y los objetos que éstas contienen se separan por comas (`,`)."
   ]
  },
  {
   "cell_type": "code",
   "execution_count": 3,
   "metadata": {
    "colab": {
     "base_uri": "https://localhost:8080/",
     "height": 34
    },
    "colab_type": "code",
    "id": "zika9R7KKMZ6",
    "outputId": "17856ea9-1cd1-4504-9dbe-c3927501b601"
   },
   "outputs": [
    {
     "data": {
      "text/plain": [
       "['Leandro', 'Colombo Viña', 38, '#DataSchool', '28/04/2020', 10.0]"
      ]
     },
     "execution_count": 3,
     "metadata": {},
     "output_type": "execute_result"
    }
   ],
   "source": [
    "cosas = [\"Leandro\", \"Colombo Viña\", 38, \"#DataSchool\", \"28/04/2020\", 10.00]\n",
    "cosas"
   ]
  },
  {
   "cell_type": "markdown",
   "metadata": {
    "colab_type": "text",
    "id": "hxcfWlCbMZwV"
   },
   "source": [
    "Las listas (como todos los elementos indexables en Python) empiezan por el número `0` y para indicar el índice se utilizan los `[]` al lado del nombre de la lista con el índice dentro. Así el primer elemento de la lista de `cosas` será:"
   ]
  },
  {
   "cell_type": "code",
   "execution_count": 0,
   "metadata": {
    "colab": {
     "base_uri": "https://localhost:8080/",
     "height": 34
    },
    "colab_type": "code",
    "id": "gmv0zd2hMsN1",
    "outputId": "5db8bf49-cdd0-4399-e17e-3ce0cdddee46"
   },
   "outputs": [
    {
     "data": {
      "text/plain": [
       "'Leandro'"
      ]
     },
     "execution_count": 2,
     "metadata": {
      "tags": []
     },
     "output_type": "execute_result"
    }
   ],
   "source": [
    "cosas[0]"
   ]
  },
  {
   "cell_type": "markdown",
   "metadata": {
    "colab_type": "text",
    "id": "Eoagm_4lM3Ru"
   },
   "source": [
    "Los elementos de la lista son modificables"
   ]
  },
  {
   "cell_type": "code",
   "execution_count": 0,
   "metadata": {
    "colab": {
     "base_uri": "https://localhost:8080/",
     "height": 34
    },
    "colab_type": "code",
    "id": "5Kio1biqNGoC",
    "outputId": "515e0f37-39ee-420b-97d6-af224a99af77"
   },
   "outputs": [
    {
     "data": {
      "text/plain": [
       "['Leandro Enrique', 'Colombo Viña', 38, '#DataSchool', '29/04/2020', 10.0]"
      ]
     },
     "execution_count": 3,
     "metadata": {
      "tags": []
     },
     "output_type": "execute_result"
    }
   ],
   "source": [
    "cosas[0] = \"Leandro Enrique\"\n",
    "cosas"
   ]
  },
  {
   "cell_type": "markdown",
   "metadata": {
    "colab_type": "text",
    "id": "FMeJzsIxNMpM"
   },
   "source": [
    "Si quiero saber cuántos elementos tiene una lista puedo usar la función `len()` que nos devuelve la cantidad de objetos que tiene una lista."
   ]
  },
  {
   "cell_type": "code",
   "execution_count": 0,
   "metadata": {
    "colab": {
     "base_uri": "https://localhost:8080/",
     "height": 34
    },
    "colab_type": "code",
    "id": "rHf0SlGlNLgk",
    "outputId": "e1579bd4-fbd7-4b6e-bc3b-27247564bbeb"
   },
   "outputs": [
    {
     "data": {
      "text/plain": [
       "6"
      ]
     },
     "execution_count": 4,
     "metadata": {
      "tags": []
     },
     "output_type": "execute_result"
    }
   ],
   "source": [
    "len(cosas)"
   ]
  },
  {
   "cell_type": "markdown",
   "metadata": {
    "colab_type": "text",
    "id": "VS_s5ZG5NX2E"
   },
   "source": [
    "Así el último elemento de la lista resulta"
   ]
  },
  {
   "cell_type": "code",
   "execution_count": 0,
   "metadata": {
    "colab": {
     "base_uri": "https://localhost:8080/",
     "height": 34
    },
    "colab_type": "code",
    "id": "D84DKq1yNW3b",
    "outputId": "4adbba57-072d-4072-86e4-12e2304a0b0f"
   },
   "outputs": [
    {
     "data": {
      "text/plain": [
       "10.0"
      ]
     },
     "execution_count": 5,
     "metadata": {
      "tags": []
     },
     "output_type": "execute_result"
    }
   ],
   "source": [
    "cosas[5]"
   ]
  },
  {
   "cell_type": "markdown",
   "metadata": {
    "colab_type": "text",
    "id": "zMCT88XaNi3e"
   },
   "source": [
    "Ya que el primer elemento se indica con el número 0. Por lo tanto, siempre el último elemento de la lista será la longitud de la lista menos uno.\n",
    "\n",
    "Aunque también se pueden indicar con índices negativos:"
   ]
  },
  {
   "cell_type": "code",
   "execution_count": 0,
   "metadata": {
    "colab": {
     "base_uri": "https://localhost:8080/",
     "height": 34
    },
    "colab_type": "code",
    "id": "kzePNh2jNiFq",
    "outputId": "37718ea0-be9b-419b-b129-316423b4ae6b"
   },
   "outputs": [
    {
     "data": {
      "text/plain": [
       "10.0"
      ]
     },
     "execution_count": 6,
     "metadata": {
      "tags": []
     },
     "output_type": "execute_result"
    }
   ],
   "source": [
    "cosas[-1]"
   ]
  },
  {
   "cell_type": "code",
   "execution_count": 0,
   "metadata": {
    "colab": {
     "base_uri": "https://localhost:8080/",
     "height": 34
    },
    "colab_type": "code",
    "id": "1nV5aT2pN1Q3",
    "outputId": "66550003-8e9a-48db-a797-7b9f9bc099f0"
   },
   "outputs": [
    {
     "data": {
      "text/plain": [
       "'Leandro Enrique'"
      ]
     },
     "execution_count": 7,
     "metadata": {
      "tags": []
     },
     "output_type": "execute_result"
    }
   ],
   "source": [
    "cosas[-6]"
   ]
  },
  {
   "cell_type": "markdown",
   "metadata": {
    "colab_type": "text",
    "id": "2rNcoLGCN5Fe"
   },
   "source": [
    "Si tratamos de acceder a un índice que no está en la lista Python nos informará con un `IndexError`"
   ]
  },
  {
   "cell_type": "code",
   "execution_count": 0,
   "metadata": {
    "colab": {
     "base_uri": "https://localhost:8080/",
     "height": 167
    },
    "colab_type": "code",
    "id": "IfP88CcwN4UT",
    "outputId": "3ddbc948-8f26-4151-d9ad-25a7b9731f10"
   },
   "outputs": [
    {
     "ename": "IndexError",
     "evalue": "ignored",
     "output_type": "error",
     "traceback": [
      "\u001b[0;31m---------------------------------------------------------------------------\u001b[0m",
      "\u001b[0;31mIndexError\u001b[0m                                Traceback (most recent call last)",
      "\u001b[0;32m<ipython-input-8-34a089188f97>\u001b[0m in \u001b[0;36m<module>\u001b[0;34m()\u001b[0m\n\u001b[0;32m----> 1\u001b[0;31m \u001b[0mcosas\u001b[0m\u001b[0;34m[\u001b[0m\u001b[0;36m10\u001b[0m\u001b[0;34m]\u001b[0m\u001b[0;34m\u001b[0m\u001b[0;34m\u001b[0m\u001b[0m\n\u001b[0m",
      "\u001b[0;31mIndexError\u001b[0m: list index out of range"
     ]
    }
   ],
   "source": [
    "cosas[10]"
   ]
  },
  {
   "cell_type": "markdown",
   "metadata": {
    "colab_type": "text",
    "id": "CSnY0RQvOE1s"
   },
   "source": [
    "Podemos utilizar el operador `in`, que devuelve `True/False` para determinar si un elemento está en la lista."
   ]
  },
  {
   "cell_type": "code",
   "execution_count": 0,
   "metadata": {
    "colab": {
     "base_uri": "https://localhost:8080/",
     "height": 34
    },
    "colab_type": "code",
    "id": "qfQ4B_m1OBtw",
    "outputId": "b3dc6873-d642-4649-d17c-707a3e90aca7"
   },
   "outputs": [
    {
     "data": {
      "text/plain": [
       "True"
      ]
     },
     "execution_count": 9,
     "metadata": {
      "tags": []
     },
     "output_type": "execute_result"
    }
   ],
   "source": [
    "  \"Leandro Enrique\" in cosas"
   ]
  },
  {
   "cell_type": "code",
   "execution_count": 0,
   "metadata": {
    "colab": {
     "base_uri": "https://localhost:8080/",
     "height": 34
    },
    "colab_type": "code",
    "id": "HCF02FO0OWxT",
    "outputId": "4036ba2a-9fc3-4ace-d713-339344453e6d"
   },
   "outputs": [
    {
     "data": {
      "text/plain": [
       "False"
      ]
     },
     "execution_count": 10,
     "metadata": {
      "tags": []
     },
     "output_type": "execute_result"
    }
   ],
   "source": [
    "\"Datalytics\" in cosas"
   ]
  },
  {
   "cell_type": "markdown",
   "metadata": {
    "colab_type": "text",
    "id": "SDGdtyyUOcTA"
   },
   "source": [
    "También podemos indicarle a Python que nos muestre una parte de la lista, por ejemplo le podemos decir que nos muestre desde el segundo elemento hasta el anteúltimo.\n",
    "\n",
    "Para ello se indica el nombre de la lista seguido de corchetes y dentro de los corchetes se pueden indicar hasta 3 números. El primero es el índice por el que empieza la \"sublista\", el segundo es el índice hasta (hay que tener en cuenta que el valor indicado en ese índice no se incluye), finalmente el tercer valor corresponde al salto (que si se omite se toma por defecto 1).\n",
    "\n",
    "`nombre_de_la_lista[inicio:fin:salto]`"
   ]
  },
  {
   "cell_type": "code",
   "execution_count": 0,
   "metadata": {
    "colab": {
     "base_uri": "https://localhost:8080/",
     "height": 34
    },
    "colab_type": "code",
    "id": "2EWhdaDlOYaK",
    "outputId": "e1fc5c49-9db3-44ef-b972-fdcc9c1f4c22"
   },
   "outputs": [
    {
     "data": {
      "text/plain": [
       "['Colombo Viña', 38, '#DataSchool']"
      ]
     },
     "execution_count": 11,
     "metadata": {
      "tags": []
     },
     "output_type": "execute_result"
    }
   ],
   "source": [
    "cosas[1:4]"
   ]
  },
  {
   "cell_type": "markdown",
   "metadata": {
    "colab_type": "text",
    "id": "RlHdySHLPgUb"
   },
   "source": [
    "## Métodos en listas\n",
    "\n",
    "Las listas admiten una lista de métodos sobre la cuál podemos ejectuar varias acciones. Por ejemplo:\n",
    "\n",
    "* `sort`: ordena la lista (siempre y cuando los elementos de la misma sean del mismo tipo y ordenables).\n",
    "* `reverse`: inverte la lista.\n",
    "* `pop`: elimina un elemento de la lista.\n",
    "* `append`: agrega un elemento al final de la lista."
   ]
  },
  {
   "cell_type": "code",
   "execution_count": 0,
   "metadata": {
    "colab": {
     "base_uri": "https://localhost:8080/",
     "height": 167
    },
    "colab_type": "code",
    "id": "hM8B7H-GQ2Ow",
    "outputId": "e9d65f9a-7007-4f42-aab8-f5c576c1d764"
   },
   "outputs": [
    {
     "ename": "TypeError",
     "evalue": "ignored",
     "output_type": "error",
     "traceback": [
      "\u001b[0;31m---------------------------------------------------------------------------\u001b[0m",
      "\u001b[0;31mTypeError\u001b[0m                                 Traceback (most recent call last)",
      "\u001b[0;32m<ipython-input-12-69ea52e129b7>\u001b[0m in \u001b[0;36m<module>\u001b[0;34m()\u001b[0m\n\u001b[0;32m----> 1\u001b[0;31m \u001b[0mcosas\u001b[0m\u001b[0;34m.\u001b[0m\u001b[0msort\u001b[0m\u001b[0;34m(\u001b[0m\u001b[0;34m)\u001b[0m\u001b[0;34m\u001b[0m\u001b[0;34m\u001b[0m\u001b[0m\n\u001b[0m",
      "\u001b[0;31mTypeError\u001b[0m: '<' not supported between instances of 'int' and 'str'"
     ]
    }
   ],
   "source": [
    "cosas.sort()"
   ]
  },
  {
   "cell_type": "code",
   "execution_count": 0,
   "metadata": {
    "colab": {
     "base_uri": "https://localhost:8080/",
     "height": 34
    },
    "colab_type": "code",
    "id": "56X4Tmf0Q6PV",
    "outputId": "9c85d045-9bdf-421c-9943-acf867e94f37"
   },
   "outputs": [
    {
     "data": {
      "text/plain": [
       "[10.0, '29/04/2020', '#DataSchool', 38, 'Colombo Viña', 'Leandro Enrique']"
      ]
     },
     "execution_count": 15,
     "metadata": {
      "tags": []
     },
     "output_type": "execute_result"
    }
   ],
   "source": [
    "cosas.reverse()\n",
    "cosas"
   ]
  },
  {
   "cell_type": "code",
   "execution_count": 0,
   "metadata": {
    "colab": {
     "base_uri": "https://localhost:8080/",
     "height": 34
    },
    "colab_type": "code",
    "id": "q_Ke1pxvRHy0",
    "outputId": "cf476020-79f5-4b57-9f0e-c0b7a7d34a95"
   },
   "outputs": [
    {
     "data": {
      "text/plain": [
       "'Leandro Enrique'"
      ]
     },
     "execution_count": 16,
     "metadata": {
      "tags": []
     },
     "output_type": "execute_result"
    }
   ],
   "source": [
    "cosas.pop()"
   ]
  },
  {
   "cell_type": "code",
   "execution_count": 0,
   "metadata": {
    "colab": {
     "base_uri": "https://localhost:8080/",
     "height": 34
    },
    "colab_type": "code",
    "id": "KnwMQKYtRKqm",
    "outputId": "1ed0a5bb-927a-436b-b34a-c2cbebba7e3b"
   },
   "outputs": [
    {
     "data": {
      "text/plain": [
       "[10.0, '29/04/2020', '#DataSchool', 38, 'Colombo Viña']"
      ]
     },
     "execution_count": 17,
     "metadata": {
      "tags": []
     },
     "output_type": "execute_result"
    }
   ],
   "source": [
    "cosas"
   ]
  },
  {
   "cell_type": "code",
   "execution_count": 0,
   "metadata": {
    "colab": {
     "base_uri": "https://localhost:8080/",
     "height": 34
    },
    "colab_type": "code",
    "id": "BKujUt-kROKS",
    "outputId": "fe21a30f-a498-4b62-dbea-509905319277"
   },
   "outputs": [
    {
     "data": {
      "text/plain": [
       "[10.0, '29/04/2020', '#DataSchool', 38, 'Colombo Viña', 'Leandro']"
      ]
     },
     "execution_count": 26,
     "metadata": {
      "tags": []
     },
     "output_type": "execute_result"
    }
   ],
   "source": [
    "cosas.append(\"Leandro\")\n",
    "cosas"
   ]
  },
  {
   "cell_type": "markdown",
   "metadata": {},
   "source": [
    "Incluso podemos podemos poner listas dentro de listas! Por ejemplo, metamos la lista de la `verdulería` dentro de nuestra lista de `cosas`:"
   ]
  },
  {
   "cell_type": "code",
   "execution_count": 4,
   "metadata": {},
   "outputs": [
    {
     "data": {
      "text/plain": [
       "['Leandro',\n",
       " 'Colombo Viña',\n",
       " 38,\n",
       " '#DataSchool',\n",
       " '28/04/2020',\n",
       " 10.0,\n",
       " ['papa', 'huevos', 'batatas', 'maíz', 'apio']]"
      ]
     },
     "execution_count": 4,
     "metadata": {},
     "output_type": "execute_result"
    }
   ],
   "source": [
    "verduleria = [\"papa\", \"huevos\", \"batatas\", \"maíz\", \"apio\"]\n",
    "cosas.append(verduleria)\n",
    "cosas"
   ]
  },
  {
   "cell_type": "markdown",
   "metadata": {},
   "source": [
    "Notemos que técnicamente sólo estamos agregando 1 elemento a la lista `cosas`"
   ]
  },
  {
   "cell_type": "code",
   "execution_count": 5,
   "metadata": {},
   "outputs": [
    {
     "data": {
      "text/plain": [
       "7"
      ]
     },
     "execution_count": 5,
     "metadata": {},
     "output_type": "execute_result"
    }
   ],
   "source": [
    " len(cosas)"
   ]
  },
  {
   "cell_type": "markdown",
   "metadata": {},
   "source": [
    "¿Y ahora? ¿Cómo hacemos para acceder a los elementos de verdulería a través de la lista `cosas`?\n",
    "\n",
    "Bueno, básicamente tenemos que agregar otro índice. En la posición 6 de `cosas` tenemos la lista `verduleria`."
   ]
  },
  {
   "cell_type": "code",
   "execution_count": 6,
   "metadata": {},
   "outputs": [
    {
     "data": {
      "text/plain": [
       "['papa', 'huevos', 'batatas', 'maíz', 'apio']"
      ]
     },
     "execution_count": 6,
     "metadata": {},
     "output_type": "execute_result"
    }
   ],
   "source": [
    "cosas[6]"
   ]
  },
  {
   "cell_type": "markdown",
   "metadata": {},
   "source": [
    "Si queremos cambiar \"batatas\" por \"zanahorias\", sólo necesitamos asignarle ese valor:"
   ]
  },
  {
   "cell_type": "code",
   "execution_count": 8,
   "metadata": {},
   "outputs": [
    {
     "data": {
      "text/plain": [
       "['Leandro',\n",
       " 'Colombo Viña',\n",
       " 38,\n",
       " '#DataSchool',\n",
       " '28/04/2020',\n",
       " 10.0,\n",
       " ['papa', 'huevos', 'zanahoria', 'maíz', 'apio']]"
      ]
     },
     "execution_count": 8,
     "metadata": {},
     "output_type": "execute_result"
    }
   ],
   "source": [
    "cosas[6][2] = \"zanahoria\"\n",
    "cosas"
   ]
  },
  {
   "cell_type": "markdown",
   "metadata": {},
   "source": [
    "La función `type` también la podemos aplicar sobre las listas:"
   ]
  },
  {
   "cell_type": "code",
   "execution_count": 9,
   "metadata": {},
   "outputs": [
    {
     "data": {
      "text/plain": [
       "list"
      ]
     },
     "execution_count": 9,
     "metadata": {},
     "output_type": "execute_result"
    }
   ],
   "source": [
    "type(cosas)"
   ]
  },
  {
   "cell_type": "markdown",
   "metadata": {},
   "source": [
    "Y por supuesto también sobre los elementos de las listas:"
   ]
  },
  {
   "cell_type": "code",
   "execution_count": 10,
   "metadata": {},
   "outputs": [
    {
     "data": {
      "text/plain": [
       "int"
      ]
     },
     "execution_count": 10,
     "metadata": {},
     "output_type": "execute_result"
    }
   ],
   "source": [
    "type(cosas[2])"
   ]
  }
 ],
 "metadata": {
  "colab": {
   "name": "listas.ipynb",
   "provenance": []
  },
  "kernelspec": {
   "display_name": "Python 3",
   "language": "python",
   "name": "python3"
  },
  "language_info": {
   "codemirror_mode": {
    "name": "ipython",
    "version": 3
   },
   "file_extension": ".py",
   "mimetype": "text/x-python",
   "name": "python",
   "nbconvert_exporter": "python",
   "pygments_lexer": "ipython3",
   "version": "3.7.7"
  }
 },
 "nbformat": 4,
 "nbformat_minor": 1
}
